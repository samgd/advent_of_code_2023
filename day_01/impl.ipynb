{
 "cells": [
  {
   "cell_type": "code",
   "execution_count": 1,
   "id": "cf28b235-79c0-4e3d-8e56-bac5dec9b35d",
   "metadata": {},
   "outputs": [],
   "source": [
    "import doctest\n",
    "import io\n",
    "import re\n",
    "from enum import auto, Enum\n",
    "from pathlib import Path\n",
    "from typing import Iterable"
   ]
  },
  {
   "cell_type": "code",
   "execution_count": 2,
   "id": "17a022b6-bb9f-4c0e-871b-cf655155ad1f",
   "metadata": {},
   "outputs": [],
   "source": [
    "DATA = \"input.txt\""
   ]
  },
  {
   "cell_type": "markdown",
   "id": "60597c1c-f9b5-49f1-a265-8095e6ccba99",
   "metadata": {},
   "source": [
    "# Part 1"
   ]
  },
  {
   "cell_type": "code",
   "execution_count": 3,
   "id": "457f04e5-43cf-4fd2-bdc5-99d8a2ee99b7",
   "metadata": {},
   "outputs": [],
   "source": [
    "def parse_calibration(line: str) -> int:\n",
    "    \"\"\"Return the two-digit calibration number for a line.\n",
    "\n",
    "    Example:\n",
    "\n",
    "        >>> line = \"1abc2\"\n",
    "        >>> parse_calibration(line)\n",
    "        12\n",
    "        \n",
    "        >>> line = \"pqr3stu8vwx\"\n",
    "        >>> parse_calibration(line)\n",
    "        38\n",
    "        \n",
    "        >>> line = \"a1b2c3d4e5f\"\n",
    "        >>> parse_calibration(line)\n",
    "        15\n",
    "        \n",
    "        >>> line = \"treb7uchet\"\n",
    "        >>> parse_calibration(line)\n",
    "        77\n",
    "    \"\"\"\n",
    "    first = last = None\n",
    "    for c in line:\n",
    "        try:\n",
    "            n = int(c)\n",
    "        except ValueError:\n",
    "            continue\n",
    "        if first is None:\n",
    "            first = last = n\n",
    "        else:\n",
    "            last = n\n",
    "    return 10*first + last"
   ]
  },
  {
   "cell_type": "code",
   "execution_count": 4,
   "id": "1fab6efd-52da-4b76-b5b2-5081050ea546",
   "metadata": {},
   "outputs": [],
   "source": [
    "def calibration_values(data: io.TextIOBase) -> Iterable[int]:\n",
    "    r\"\"\"\n",
    "\n",
    "    Example:\n",
    "\n",
    "        >>> data = r'''1abc2\n",
    "        ... pqr3stu8vwx\n",
    "        ... a1b2c3d4e5f\n",
    "        ... treb7uchet\n",
    "        ... '''\n",
    "        >>> list(calibration_values(io.StringIO(data)))\n",
    "        [12, 38, 15, 77]\n",
    "    \"\"\"\n",
    "    for line in data:\n",
    "        yield parse_calibration(line)"
   ]
  },
  {
   "cell_type": "code",
   "execution_count": 5,
   "id": "6d30ba9a-9c1f-46c7-a499-f1791274902c",
   "metadata": {},
   "outputs": [
    {
     "data": {
      "text/plain": [
       "TestResults(failed=0, attempted=10)"
      ]
     },
     "execution_count": 5,
     "metadata": {},
     "output_type": "execute_result"
    }
   ],
   "source": [
    "doctest.testmod()"
   ]
  },
  {
   "cell_type": "code",
   "execution_count": 6,
   "id": "81c78df9-dbe6-4dcf-a987-6fdeecbacb1f",
   "metadata": {},
   "outputs": [
    {
     "name": "stdout",
     "output_type": "stream",
     "text": [
      "56465\n"
     ]
    }
   ],
   "source": [
    "with open(DATA, \"r\") as f:\n",
    "    print(sum(calibration_values(f)))"
   ]
  },
  {
   "cell_type": "markdown",
   "id": "26f509f5-8a51-4e30-9acb-d3141c7ff9b9",
   "metadata": {},
   "source": [
    "# Part 2"
   ]
  },
  {
   "cell_type": "markdown",
   "id": "fb78a829-b294-48db-9058-917f687e06b9",
   "metadata": {},
   "source": [
    "Idea: make a simple state machine for parsing that steps through the characters and yields the 0-9 valued integers it finds in either numeric or word form.\n",
    "\n",
    "What states are required? If the character is an integer it can just be yielded. Otherwise we're either at the end of a previous parse -- `NULL` state -- or are in the middle of a possible parse of a word-valued integer. The state machine keeps advancing, emitting the number if it moves to an (implicit) `EMIT_X` state. The state machine resets to `NULL` if the next character is a numeric value or not one of the possible transitions.\n",
    "\n",
    "In practice each new character has the possibility to advance, end and start multiple states. e.g. when parsing the character sequence `seveight` the second `e` advances the `MYB_7_SEV` state and introduces the `MYB_8_E` state. The number of states could be expanded to account for all of these overlaps but for practicality a set of current possible states is used instead.\n",
    "\n",
    "```\n",
    "NULL ---- o --> MYB_1_O -- n --> MYB_1_ON -- e --> EMIT1\n",
    "     |\n",
    "     ---- t --> MYB_2_3_T -- w --> MYB_2_TW -- o --> EMIT_2\n",
    "     |                         |\n",
    "     |                         -- h --> MYB_3_TH -- r --> MYB_3_THR -- e --> MYB_3_THRE -- e --> EMIT_3\n",
    "     |\n",
    "     ---- f --> MYB_4_5_F -- o --> MYB_4_FO -- u --> MYB_4_FOU -- r --> EMIT_4\n",
    "     |                    |\n",
    "     |                    -- i --> MYB_5_FI -- v --> MYB_5_FIV -- e --> EMIT_5\n",
    "     |\n",
    "     ---- s --> MYB_6_7_S -- i --> MYB_6_SI -- x --> EMIT_6\n",
    "     |                    |\n",
    "     |                    -- e --> MYB_7_SE -- v --> MYB_7_SEV -- e --> MYB_7_SEVE -- n --> EMIT_7\n",
    "     |\n",
    "     ---- e --> MYB_8_E -- i --> MYB_8_EI -- g --> MYB_8_EIG -- h --> MYB_8_EIGH -- t --> EMIT_8\n",
    "     |\n",
    "     ---- n --> MYB_9_N -- i --> MYB_9_NI -- n --> MYB_9_NIN -- e --> EMIT_9\n",
    "```"
   ]
  },
  {
   "cell_type": "code",
   "execution_count": 7,
   "id": "1ef00333-2001-4657-bc77-46d258372d0f",
   "metadata": {},
   "outputs": [],
   "source": [
    "class State(Enum):\n",
    "    NULL = auto()\n",
    "    \n",
    "    MYB_1_O  = auto()\n",
    "    MYB_1_ON = auto()\n",
    "\n",
    "    MYB_2_3_T = auto()\n",
    "    \n",
    "    MYB_2_TW   = auto()\n",
    "    \n",
    "    MYB_3_TH   = auto()\n",
    "    MYB_3_THR  = auto()\n",
    "    MYB_3_THRE = auto()\n",
    "\n",
    "    MYB_4_5_F = auto()\n",
    "\n",
    "    MYB_4_FO  = auto()\n",
    "    MYB_4_FOU = auto()\n",
    "\n",
    "    MYB_5_FI = auto()\n",
    "    MYB_5_FIV = auto()\n",
    "\n",
    "    MYB_6_7_S = auto()\n",
    "    \n",
    "    MYB_6_SI = auto()\n",
    "\n",
    "    MYB_7_SE   = auto()\n",
    "    MYB_7_SEV  = auto()\n",
    "    MYB_7_SEVE = auto()\n",
    "\n",
    "    MYB_8_E    = auto()\n",
    "    MYB_8_EI   = auto()\n",
    "    MYB_8_EIG  = auto()\n",
    "    MYB_8_EIGH = auto()\n",
    "\n",
    "    MYB_9_N   = auto()\n",
    "    MYB_9_NI  = auto()\n",
    "    MYB_9_NIN = auto()"
   ]
  },
  {
   "cell_type": "code",
   "execution_count": 8,
   "id": "40ba6c25-d255-4a1a-a11c-71f7254feddb",
   "metadata": {},
   "outputs": [],
   "source": [
    "def parse_digits(line: str) -> Iterable[int]:\n",
    "    \"\"\"Returns all the numeric of spelled out single digits in ``line``.\n",
    "\n",
    "    Example:\n",
    "\n",
    "        >>> line = \"two1nine\"\n",
    "        >>> list(parse_digits(line))\n",
    "        [2, 1, 9]\n",
    "\n",
    "        >>> line = \"eightwothree\"\n",
    "        >>> list(parse_digits(line))\n",
    "        [8, 2, 3]\n",
    "\n",
    "        >>> line = \"abcone2threexyz\"\n",
    "        >>> list(parse_digits(line))\n",
    "        [1, 2, 3]\n",
    "\n",
    "        >>> line = \"xtwone3four\"\n",
    "        >>> list(parse_digits(line))\n",
    "        [2, 1, 3, 4]\n",
    "\n",
    "        >>> line = \"4nineeightseven2\"\n",
    "        >>> list(parse_digits(line))\n",
    "        [4, 9, 8, 7, 2]\n",
    "\n",
    "        >>> line = \"zoneight234\"\n",
    "        >>> list(parse_digits(line))\n",
    "        [1, 8, 2, 3, 4]\n",
    "\n",
    "        >>> line = \"7pqrstsixteen\"\n",
    "        >>> list(parse_digits(line))\n",
    "        [7, 6]\n",
    "    \"\"\"\n",
    "    states = []\n",
    "    new_states = []\n",
    "    \n",
    "    for c in line:\n",
    "        states.append(State.NULL)\n",
    "        new_states = []\n",
    "        for state in states:\n",
    "            match (state, c):\n",
    "                case State.NULL, _:\n",
    "                    try:\n",
    "                        n = int(c)\n",
    "                        yield n\n",
    "                    except:\n",
    "                        pass\n",
    "                    match c:\n",
    "                        case \"o\":\n",
    "                            new_states.append(State.MYB_1_O)\n",
    "                        case \"t\":\n",
    "                            new_states.append(State.MYB_2_3_T)\n",
    "                        case \"f\":\n",
    "                            new_states.append(State.MYB_4_5_F)\n",
    "                        case \"s\":\n",
    "                            new_states.append(State.MYB_6_7_S)\n",
    "                        case \"e\":\n",
    "                            new_states.append(State.MYB_8_E)\n",
    "                        case \"n\":\n",
    "                            new_states.append(State.MYB_9_N)\n",
    "                \n",
    "                case State.MYB_1_O, \"n\":\n",
    "                    new_states.append(State.MYB_1_ON)\n",
    "                case State.MYB_1_ON, \"e\":\n",
    "                    yield 1\n",
    "                    \n",
    "                case State.MYB_2_3_T, \"w\":\n",
    "                    new_states.append(State.MYB_2_TW)\n",
    "                case State.MYB_2_3_T, \"h\":\n",
    "                    new_states.append(State.MYB_3_TH)\n",
    "                    \n",
    "                case State.MYB_2_TW, \"o\":\n",
    "                    yield 2\n",
    "                    \n",
    "                case State.MYB_3_TH, \"r\":\n",
    "                    new_states.append(State.MYB_3_THR)\n",
    "                case State.MYB_3_THR, \"e\":\n",
    "                    new_states.append(State.MYB_3_THRE)\n",
    "                case State.MYB_3_THRE, \"e\":\n",
    "                    yield 3\n",
    "    \n",
    "                case State.MYB_4_5_F, \"o\":\n",
    "                    new_states.append(State.MYB_4_FO)\n",
    "                case State.MYB_4_5_F, \"i\":\n",
    "                    new_states.append(State.MYB_5_FI)\n",
    "                    \n",
    "                case State.MYB_4_FO, \"u\":\n",
    "                    new_states.append(State.MYB_4_FOU)\n",
    "                case State.MYB_4_FOU, \"r\":\n",
    "                    yield 4\n",
    "    \n",
    "                case State.MYB_5_FI, \"v\":\n",
    "                    new_states.append(State.MYB_5_FIV)\n",
    "                case State.MYB_5_FIV, \"e\":\n",
    "                    yield 5\n",
    "    \n",
    "                case State.MYB_6_7_S, \"i\":\n",
    "                    new_states.append(State.MYB_6_SI)\n",
    "                case State.MYB_6_7_S, \"e\":\n",
    "                    new_states.append(State.MYB_7_SE)\n",
    "    \n",
    "                case State.MYB_6_SI, \"x\":\n",
    "                    yield 6\n",
    "    \n",
    "                case State.MYB_7_SE, \"v\":\n",
    "                    new_states.append(State.MYB_7_SEV)\n",
    "                case State.MYB_7_SEV, \"e\":\n",
    "                    new_states.append(State.MYB_7_SEVE)\n",
    "                case State.MYB_7_SEVE, \"n\":\n",
    "                    yield 7\n",
    "    \n",
    "                case State.MYB_8_E, \"i\":\n",
    "                    new_states.append(State.MYB_8_EI)\n",
    "                case State.MYB_8_EI, \"g\":\n",
    "                    new_states.append(State.MYB_8_EIG)\n",
    "                case State.MYB_8_EIG, \"h\":\n",
    "                    new_states.append(State.MYB_8_EIGH)\n",
    "                case State.MYB_8_EIGH, \"t\":\n",
    "                    yield 8\n",
    "    \n",
    "                case State.MYB_9_N, \"i\":\n",
    "                    new_states.append(State.MYB_9_NI)\n",
    "                case State.MYB_9_NI, \"n\":\n",
    "                    new_states.append(State.MYB_9_NIN)\n",
    "                case State.MYB_9_NIN, \"e\":\n",
    "                    yield 9\n",
    "        states = new_states"
   ]
  },
  {
   "cell_type": "code",
   "execution_count": 9,
   "id": "42ce2a9b-5c12-4688-a9ce-1e21b96dd382",
   "metadata": {},
   "outputs": [],
   "source": [
    "def parse_calibration_2(line: str) -> int:\n",
    "    \"\"\"Return the two-digit calibration number for a line.\n",
    "\n",
    "    Example:\n",
    "\n",
    "        >>> parse_calibration_2(\"two1nine\")\n",
    "        29\n",
    "\n",
    "        >>> parse_calibration_2(\"eightwothree\")\n",
    "        83\n",
    "\n",
    "        >>> parse_calibration_2(\"abcone2threexyz\")\n",
    "        13\n",
    "\n",
    "        >>> parse_calibration_2(\"xtwone3four\")\n",
    "        24\n",
    "\n",
    "        >>> parse_calibration_2(\"4nineeightseven2\")\n",
    "        42\n",
    "\n",
    "        >>> parse_calibration_2(\"zoneight234\")\n",
    "        14\n",
    "\n",
    "        >>> parse_calibration_2(\"7pqrstsixteen\")\n",
    "        76\n",
    "    \"\"\"\n",
    "    first = last = None\n",
    "    for n in parse_digits(line):\n",
    "        if first is None:\n",
    "            first = last = n\n",
    "        else:\n",
    "            last = n\n",
    "    return 10*first + n"
   ]
  },
  {
   "cell_type": "code",
   "execution_count": 10,
   "id": "291b33cb-dcbe-47d2-8979-4a5c7f94623b",
   "metadata": {},
   "outputs": [],
   "source": [
    "def calibration_values_2(data: io.TextIOBase) -> Iterable[int]:\n",
    "    r\"\"\"\n",
    "\n",
    "    Example:\n",
    "\n",
    "        >>> data = r'''1abc2\n",
    "        ... pqr3stu8vwx\n",
    "        ... a1b2c3d4e5f\n",
    "        ... treb7uchet\n",
    "        ... '''\n",
    "        >>> list(calibration_values(io.StringIO(data)))\n",
    "        [12, 38, 15, 77]\n",
    "    \"\"\"\n",
    "    for line in data:\n",
    "        yield parse_calibration_2(line)"
   ]
  },
  {
   "cell_type": "code",
   "execution_count": 11,
   "id": "4de31640-77d1-44c2-b0a0-f95eaef84b57",
   "metadata": {},
   "outputs": [
    {
     "data": {
      "text/plain": [
       "TestResults(failed=0, attempted=33)"
      ]
     },
     "execution_count": 11,
     "metadata": {},
     "output_type": "execute_result"
    }
   ],
   "source": [
    "doctest.testmod()"
   ]
  },
  {
   "cell_type": "code",
   "execution_count": 12,
   "id": "7a3c1f61-d98e-433f-beda-5e2ea0dee928",
   "metadata": {},
   "outputs": [
    {
     "name": "stdout",
     "output_type": "stream",
     "text": [
      "55902\n"
     ]
    }
   ],
   "source": [
    "with open(DATA, \"r\") as f:\n",
    "    print(sum(calibration_values_2(f)))"
   ]
  }
 ],
 "metadata": {
  "kernelspec": {
   "display_name": "Python 3 (ipykernel)",
   "language": "python",
   "name": "python3"
  },
  "language_info": {
   "codemirror_mode": {
    "name": "ipython",
    "version": 3
   },
   "file_extension": ".py",
   "mimetype": "text/x-python",
   "name": "python",
   "nbconvert_exporter": "python",
   "pygments_lexer": "ipython3",
   "version": "3.10.13"
  }
 },
 "nbformat": 4,
 "nbformat_minor": 5
}
