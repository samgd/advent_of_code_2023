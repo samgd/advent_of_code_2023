{
 "cells": [
  {
   "cell_type": "code",
   "execution_count": 32,
   "id": "a4817fac-47a1-4f89-9620-24f4af961b74",
   "metadata": {},
   "outputs": [],
   "source": [
    "import doctest\n",
    "import io\n",
    "from typing import Iterable, List, Sequence, Tuple"
   ]
  },
  {
   "cell_type": "code",
   "execution_count": 39,
   "id": "b5c5250a-231d-4509-b59c-e98707750686",
   "metadata": {},
   "outputs": [],
   "source": [
    "DATA = \"input.txt\""
   ]
  },
  {
   "cell_type": "markdown",
   "id": "cca4e76d-0c37-49f7-a5b9-90947cbd9392",
   "metadata": {},
   "source": [
    "# Part 1\n",
    "\n",
    "Start with a semi-naive solution as no closed-form or neat one is immediately coming to mind. Only keep around two horizontal rows of the triangle as well as the last entries in each row to at least save some memory."
   ]
  },
  {
   "cell_type": "code",
   "execution_count": 33,
   "id": "704984ff-84ac-417f-a1a5-faf820b47cca",
   "metadata": {},
   "outputs": [],
   "source": [
    "def seq_diff(seq: Sequence[int]) -> Tuple[Sequence[int], bool]:\n",
    "    \"\"\"Return the sequence differences and True if all zero.\n",
    "\n",
    "    Example:\n",
    "\n",
    "        >>> seq_diff([1, 3, 6, 10, 15, 21])\n",
    "        ([2, 3, 4, 5, 6], False)\n",
    "        >>> seq_diff([])\n",
    "        ([], True)\n",
    "        >>> seq_diff([1])\n",
    "        ([], True)\n",
    "    \"\"\"\n",
    "    all_zero = True\n",
    "    diffs = []\n",
    "    for a, b in zip(seq[:-1], seq[1:]):\n",
    "        diff = b - a\n",
    "        diffs.append(diff)\n",
    "        all_zero = all_zero and diff == 0\n",
    "    return diffs, all_zero"
   ]
  },
  {
   "cell_type": "code",
   "execution_count": 34,
   "id": "e3dec276-0c62-432d-9aba-2ce464076956",
   "metadata": {},
   "outputs": [],
   "source": [
    "def next_value(seq: Sequence[int]) -> int:\n",
    "    \"\"\"Returns the next value in the `seq`.\n",
    "\n",
    "    Example:\n",
    "\n",
    "        >>> next_value([0, 3, 6, 9, 12, 15])\n",
    "        18\n",
    "        >>> next_value([1, 3, 6, 10, 15, 21])\n",
    "        28\n",
    "        >>> next_value([10, 13, 16, 21, 30, 45])\n",
    "        68\n",
    "    \"\"\"\n",
    "    lasts = [seq[-1]]\n",
    "    \n",
    "    diff, all_zero = seq_diff(seq)\n",
    "    lasts.append(diff[-1])\n",
    "\n",
    "    while not all_zero:\n",
    "        seq = diff\n",
    "        diff, all_zero = seq_diff(seq)\n",
    "        lasts.append(diff[-1])\n",
    "\n",
    "    return sum(lasts)    "
   ]
  },
  {
   "cell_type": "code",
   "execution_count": 35,
   "id": "fb9ae6e6-a2ab-4148-bc87-565905ed7606",
   "metadata": {},
   "outputs": [],
   "source": [
    "def parse_input(data: io.TextIOBase) -> Iterable[List[int]]:\n",
    "    \"\"\"Returns the input sequences.\n",
    "\n",
    "    Example:\n",
    "    \n",
    "        >>> data = io.StringIO('''0 3 6 9 12 15\n",
    "        ... 1 3 6 10 15 21\n",
    "        ... 10 13 16 21 30 45''')\n",
    "        >>> list(parse_input(data))\n",
    "        [[0, 3, 6, 9, 12, 15], [1, 3, 6, 10, 15, 21], [10, 13, 16, 21, 30, 45]]\n",
    "    \"\"\"\n",
    "    for line in data:\n",
    "        yield [int(n) for n in line.split()]"
   ]
  },
  {
   "cell_type": "code",
   "execution_count": 37,
   "id": "3ed0f9ec-63ff-4fa3-b458-86bce16c2361",
   "metadata": {},
   "outputs": [],
   "source": [
    "def sum_extrapolated(seqs: Iterable[List[int]]) -> int:\n",
    "    \"\"\"Returns the sum of the extrapolated values.\n",
    "\n",
    "    Example:\n",
    "\n",
    "        >>> seqs = [[0, 3, 6, 9, 12, 15], [1, 3, 6, 10, 15, 21], [10, 13, 16, 21, 30, 45]]\n",
    "        >>> sum_extrapolated(seqs)\n",
    "        114\n",
    "    \"\"\"\n",
    "    return sum(next_value(seq) for seq in seqs)"
   ]
  },
  {
   "cell_type": "code",
   "execution_count": 38,
   "id": "96529c40-268a-49b0-90a0-12c623c0867a",
   "metadata": {},
   "outputs": [
    {
     "data": {
      "text/plain": [
       "TestResults(failed=0, attempted=10)"
      ]
     },
     "execution_count": 38,
     "metadata": {},
     "output_type": "execute_result"
    }
   ],
   "source": [
    "doctest.testmod()"
   ]
  },
  {
   "cell_type": "code",
   "execution_count": 41,
   "id": "81952280-2152-4481-bc42-93e6328240f5",
   "metadata": {},
   "outputs": [
    {
     "name": "stdout",
     "output_type": "stream",
     "text": [
      "1921197370\n"
     ]
    }
   ],
   "source": [
    "with open(DATA, \"r\") as f:\n",
    "    print(sum_extrapolated(parse_input(f)))"
   ]
  },
  {
   "cell_type": "markdown",
   "id": "19323cd3-185f-4d47-9f58-6b284be9ac7f",
   "metadata": {},
   "source": [
    "# Part 2"
   ]
  },
  {
   "cell_type": "code",
   "execution_count": 42,
   "id": "554b0c61-23a6-4421-a1df-97160dfe7fdd",
   "metadata": {},
   "outputs": [
    {
     "name": "stdout",
     "output_type": "stream",
     "text": [
      "1124\n"
     ]
    }
   ],
   "source": [
    "with open(DATA, \"r\") as f:\n",
    "    print(sum_extrapolated(seq[::-1] for seq in parse_input(f)))"
   ]
  }
 ],
 "metadata": {
  "kernelspec": {
   "display_name": "Python 3 (ipykernel)",
   "language": "python",
   "name": "python3"
  },
  "language_info": {
   "codemirror_mode": {
    "name": "ipython",
    "version": 3
   },
   "file_extension": ".py",
   "mimetype": "text/x-python",
   "name": "python",
   "nbconvert_exporter": "python",
   "pygments_lexer": "ipython3",
   "version": "3.10.13"
  }
 },
 "nbformat": 4,
 "nbformat_minor": 5
}
