{
 "cells": [
  {
   "cell_type": "code",
   "execution_count": 1,
   "id": "0732d5d7-56ad-40dd-a390-385c9e9f0704",
   "metadata": {},
   "outputs": [],
   "source": [
    "import doctest\n",
    "import io\n",
    "import re\n",
    "from dataclasses import dataclass\n",
    "from typing import List, Optional, Tuple"
   ]
  },
  {
   "cell_type": "code",
   "execution_count": 2,
   "id": "c2a65643-456d-4bac-ae8d-da5ebebb28a4",
   "metadata": {},
   "outputs": [],
   "source": [
    "DATA = \"input.txt\""
   ]
  },
  {
   "cell_type": "markdown",
   "id": "fd0180b3-04eb-4a6d-964f-8f48279c25c5",
   "metadata": {},
   "source": [
    "# Part 1\n",
    "\n",
    "Naive solution is to expand all the ranges and insert the mappings into dictionaries. Given this is AoC it's likely the ranges are going to get large so assuming that's a bad idea! \n",
    "\n",
    "Idea: The ranges are non-overlapping so store the source range starts in a list, sorted by source start, along with the range length and destination range starts. To map a source integer to a destination integer we search for the largest value less than or equal to the source integer, check if it is within the range and then map it to the destination range."
   ]
  },
  {
   "cell_type": "code",
   "execution_count": 3,
   "id": "7d22a769-58b9-4939-9492-933cf9c1663b",
   "metadata": {},
   "outputs": [],
   "source": [
    "class Map:\n",
    "    \"\"\"\n",
    "\n",
    "    Args:\n",
    "\n",
    "        data: List of ``(dst start, src start, rng len)``.\n",
    "\n",
    "    Example:\n",
    "\n",
    "        >>> m = Map([(50, 98, 2), (52, 50, 48)])\n",
    "        >>> m[98]\n",
    "        50\n",
    "        >>> m[99]\n",
    "        51\n",
    "        >>> m[100]\n",
    "        100\n",
    "        >>> m[60]\n",
    "        62\n",
    "\n",
    "        >>> m = Map([(0, 15, 37), (37, 52, 2), (39, 0, 15)])\n",
    "        >>> m[0]\n",
    "        39\n",
    "        >>> m[14]\n",
    "        53\n",
    "        >>> m[53]\n",
    "        38\n",
    "        >>> m[15]\n",
    "        0\n",
    "    \"\"\"\n",
    "    def __init__(self, data: List[Tuple[int, int, int]]):\n",
    "        self._data = sorted(data, key=lambda x: x[1])\n",
    "\n",
    "    def __repr__(self) -> str:\n",
    "        return f\"Map(data={self._data})\"\n",
    "\n",
    "    def __getitem__(self, src: int) -> Optional[int]:\n",
    "        # find range\n",
    "        start, end = 0, len(self._data) - 1\n",
    "        while True:\n",
    "            i = start + ((end - start) // 2)\n",
    "            entry = self._data[i]\n",
    "\n",
    "            if entry[1] <= src and src < entry[1] + entry[2]:\n",
    "                return entry[0] + (src - entry[1])\n",
    "\n",
    "            if src < entry[1]:\n",
    "                end = i - 1\n",
    "\n",
    "            if src >= entry[1] + entry[2]:\n",
    "                start = i + 1\n",
    "\n",
    "            if start > end or end < start:\n",
    "                break\n",
    "        return src"
   ]
  },
  {
   "cell_type": "code",
   "execution_count": 4,
   "id": "ee1d42ba-7164-47cb-9611-3a760e9401de",
   "metadata": {},
   "outputs": [],
   "source": [
    "def parse_input(data: io.TextIOBase) -> Tuple[List[int], List[Map]]:\n",
    "    \"\"\"Returns the list of seeds to be planted and the list of maps.\n",
    "\n",
    "    Example:\n",
    "\n",
    "        >>> data = io.StringIO('''seeds: 79 14 55 13\n",
    "        ... \n",
    "        ... seed-to-soil map:\n",
    "        ... 50 98 2\n",
    "        ... 52 50 48\n",
    "        ... ''')\n",
    "        >>> parse_input(data)\n",
    "        ([79, 14, 55, 13], [Map(data=[(52, 50, 48), (50, 98, 2)])])\n",
    "    \"\"\"\n",
    "    # assumes well-formed input, no error handling!\n",
    "    data_iter = iter(data)\n",
    "    seeds = [int(s) for s in next(data_iter)[7:].split()]\n",
    "    maps = []\n",
    "\n",
    "    next(data_iter) # blank line\n",
    "    while True:\n",
    "        try:\n",
    "            map_name = next(data_iter)\n",
    "        except StopIteration:\n",
    "            break\n",
    "        map_entries = []\n",
    "        while True:\n",
    "            try:\n",
    "                map_entry = next(data_iter)\n",
    "            except StopIteration:\n",
    "                break\n",
    "            if map_entry == \"\\n\":\n",
    "                break\n",
    "            map_entries.append(tuple(int(me) for me in map_entry.split()))\n",
    "        maps.append(Map(map_entries))\n",
    "            \n",
    "    return seeds, maps"
   ]
  },
  {
   "cell_type": "code",
   "execution_count": 5,
   "id": "dd24b4ab-f95c-4e1c-83c5-afec1e87f9aa",
   "metadata": {},
   "outputs": [],
   "source": [
    "def map_to_locations(seeds: List[int], maps: List[Map]) -> List[int]:\n",
    "    \"\"\"Returns the seeds mapped to the locations.\n",
    "\n",
    "    Example:\n",
    "\n",
    "        >>> data = io.StringIO('''seeds: 79 14 55 13\n",
    "        ...\n",
    "        ... seed-to-soil map:\n",
    "        ... 50 98 2\n",
    "        ... 52 50 48\n",
    "        ...\n",
    "        ... soil-to-fertilizer map:\n",
    "        ... 0 15 37\n",
    "        ... 37 52 2\n",
    "        ... 39 0 15\n",
    "        ...\n",
    "        ... fertilizer-to-water map:\n",
    "        ... 49 53 8\n",
    "        ... 0 11 42\n",
    "        ... 42 0 7\n",
    "        ... 57 7 4\n",
    "        ...\n",
    "        ... water-to-light map:\n",
    "        ... 88 18 7\n",
    "        ... 18 25 70\n",
    "        ...\n",
    "        ... light-to-temperature map:\n",
    "        ... 45 77 23\n",
    "        ... 81 45 19\n",
    "        ... 68 64 13\n",
    "        ...\n",
    "        ... temperature-to-humidity map:\n",
    "        ... 0 69 1\n",
    "        ... 1 0 69\n",
    "        ...\n",
    "        ... humidity-to-location map:\n",
    "        ... 60 56 37\n",
    "        ... 56 93 4\n",
    "        ... ''')\n",
    "        >>> seeds, maps = parse_input(data)\n",
    "        >>> map_to_locations(seeds, maps)\n",
    "        [82, 43, 86, 35]\n",
    "    \"\"\"\n",
    "    locations = []\n",
    "    for seed in seeds:\n",
    "        n = seed\n",
    "        for i, m in enumerate(maps):\n",
    "            n = m[n]\n",
    "        locations.append(n)\n",
    "    return locations"
   ]
  },
  {
   "cell_type": "code",
   "execution_count": 6,
   "id": "d19a399b-6cd9-4c50-9c06-b07513223c76",
   "metadata": {},
   "outputs": [
    {
     "data": {
      "text/plain": [
       "TestResults(failed=0, attempted=15)"
      ]
     },
     "execution_count": 6,
     "metadata": {},
     "output_type": "execute_result"
    }
   ],
   "source": [
    "doctest.testmod()"
   ]
  },
  {
   "cell_type": "code",
   "execution_count": 7,
   "id": "1dcf9a28-81ad-4c00-8aab-9da7b67ce603",
   "metadata": {},
   "outputs": [
    {
     "name": "stdout",
     "output_type": "stream",
     "text": [
      "178159714\n"
     ]
    }
   ],
   "source": [
    "with open(DATA, \"r\") as f:\n",
    "    seeds, maps = parse_input(f)\n",
    "print(min(map_to_locations(seeds, maps)))"
   ]
  },
  {
   "cell_type": "markdown",
   "id": "8e43e41b-405a-453a-9719-e171f5e698d7",
   "metadata": {},
   "source": [
    "# Part 2\n",
    "\n",
    "Idea: Each initial `(start, length)` pair becomes a set of intervals initialised as `{(src start, src start + length)}`. Mapping maps these intervals to `(dst start, length)` pairs. However, the interval may span more than one range so the mapping may split one \"source\" interval into one or more destination interval hence the need for a set. The mapping process continues until all location intervals are retrieved, at which point the lowest `src start` can be selected. \n",
    "\n",
    "The `Map.__getitem__` method needs updating to return multiple ranges given an input range."
   ]
  },
  {
   "cell_type": "code",
   "execution_count": 171,
   "id": "6704722e-d7c3-4ab8-aeb4-36cd96e4d2ee",
   "metadata": {},
   "outputs": [],
   "source": [
    "class IntervalMap(Map):\n",
    "    def __getitem__(self, src: Tuple[int, int]) -> set[Tuple[int, int]]:\n",
    "        \"\"\"\n",
    "\n",
    "        Example:\n",
    "\n",
    "            >>> m = IntervalMap([(50, 98, 2), (52, 50, 48)])\n",
    "            >>> m[(90, 10)]\n",
    "            [(92, 8), (50, 2)]\n",
    "\n",
    "        \"\"\"\n",
    "        src_start, src_length = src\n",
    "        \n",
    "        # find interval that `src_start` falls in\n",
    "        start, end = 0, len(self._data) - 1\n",
    "        while True:\n",
    "            i = start + ((end - start) // 2)\n",
    "            entry = self._data[i]\n",
    "\n",
    "            if entry[1] <= src_start and src_start < entry[1] + entry[2]:\n",
    "                break\n",
    "\n",
    "            if src_start < entry[1]:\n",
    "                end = i - 1\n",
    "\n",
    "            if src_start >= entry[1] + entry[2]:\n",
    "                start = i + 1\n",
    "\n",
    "            if start > end or end < start:\n",
    "                return {src}\n",
    "\n",
    "        # entry contains src_start, now scan right producing the new interval(s)\n",
    "        new_intervals = []\n",
    "        cur_pos = src_start\n",
    "        remain_length = src_length\n",
    "        while cur_pos < src_start + src_length:\n",
    "            if i >= len(self._data):\n",
    "                new_intervals.append((cur_pos, remain_length))\n",
    "                cur_pos += remain_length\n",
    "                break\n",
    "            entry = self._data[i]\n",
    "            if entry[1] + entry[2] >= cur_pos + remain_length:\n",
    "                new_intervals.append((entry[0] + (cur_pos - entry[1]), remain_length))\n",
    "                cur_pos += remain_length\n",
    "            else:\n",
    "                interval_len = entry[1] + entry[2] - cur_pos\n",
    "                new_intervals.append((entry[0] + (cur_pos - entry[1]), interval_len))\n",
    "                cur_pos += interval_len\n",
    "                remain_length -= interval_len\n",
    "                i += 1\n",
    "        \n",
    "        return new_intervals"
   ]
  },
  {
   "cell_type": "code",
   "execution_count": 172,
   "id": "c9336884-0171-46b5-8a33-cad3dacc3ec0",
   "metadata": {},
   "outputs": [],
   "source": [
    "def map_intervals_to_locations(intervals: List[Tuple[int, int]], maps: List[Map]) -> List[Tuple[int, int]]:\n",
    "    \"\"\"Returns the seed intervals mapped to location intervals.\n",
    "\n",
    "    Example:\n",
    "\n",
    "        >>> data = io.StringIO('''seeds: 82 1\n",
    "        ...\n",
    "        ... seed-to-soil map:\n",
    "        ... 50 98 2\n",
    "        ... 52 50 48\n",
    "        ...\n",
    "        ... soil-to-fertilizer map:\n",
    "        ... 0 15 37\n",
    "        ... 37 52 2\n",
    "        ... 39 0 15\n",
    "        ...\n",
    "        ... fertilizer-to-water map:\n",
    "        ... 49 53 8\n",
    "        ... 0 11 42\n",
    "        ... 42 0 7\n",
    "        ... 57 7 4\n",
    "        ...\n",
    "        ... water-to-light map:\n",
    "        ... 88 18 7\n",
    "        ... 18 25 70\n",
    "        ...\n",
    "        ... light-to-temperature map:\n",
    "        ... 45 77 23\n",
    "        ... 81 45 19\n",
    "        ... 68 64 13\n",
    "        ...\n",
    "        ... temperature-to-humidity map:\n",
    "        ... 0 69 1\n",
    "        ... 1 0 69\n",
    "        ...\n",
    "        ... humidity-to-location map:\n",
    "        ... 60 56 37\n",
    "        ... 56 93 4\n",
    "        ... ''')\n",
    "        >>> seeds, maps = parse_input(data)\n",
    "        >>> intervals = list(zip(seeds[::2], seeds[1::2]))\n",
    "        >>> maps = [IntervalMap(m._data) for m in maps]\n",
    "        >>> map_intervals_to_locations(intervals, maps)\n",
    "        [{(46, 1)}]\n",
    "    \"\"\"\n",
    "    locations = []\n",
    "    for seed_interval in intervals:\n",
    "        ints = {seed_interval}\n",
    "        for i, m in enumerate(maps):\n",
    "            new_ints = set()\n",
    "            for interval in ints:\n",
    "                new_int = m[interval]\n",
    "                new_ints.update(new_int)\n",
    "            ints = new_ints\n",
    "        locations.append(ints)\n",
    "    return locations"
   ]
  },
  {
   "cell_type": "code",
   "execution_count": 173,
   "id": "49aa0733-ec88-4b2d-9142-b94e44ef4608",
   "metadata": {},
   "outputs": [
    {
     "data": {
      "text/plain": [
       "TestResults(failed=0, attempted=22)"
      ]
     },
     "execution_count": 173,
     "metadata": {},
     "output_type": "execute_result"
    }
   ],
   "source": [
    "doctest.testmod()"
   ]
  },
  {
   "cell_type": "code",
   "execution_count": 174,
   "id": "f1434f4b-9434-4228-b21a-852f34ed3451",
   "metadata": {},
   "outputs": [
    {
     "data": {
      "text/plain": [
       "100165128"
      ]
     },
     "execution_count": 174,
     "metadata": {},
     "output_type": "execute_result"
    }
   ],
   "source": [
    "with open(DATA, \"r\") as f:\n",
    "    seeds, maps = parse_input(f)\n",
    "intervals = list(zip(seeds[::2], seeds[1::2]))\n",
    "maps = [IntervalMap(m._data) for m in maps]\n",
    "locations = map_intervals_to_locations(intervals, maps)\n",
    "min([l for intervals in locations for l, _ in intervals])"
   ]
  }
 ],
 "metadata": {
  "kernelspec": {
   "display_name": "Python 3 (ipykernel)",
   "language": "python",
   "name": "python3"
  },
  "language_info": {
   "codemirror_mode": {
    "name": "ipython",
    "version": 3
   },
   "file_extension": ".py",
   "mimetype": "text/x-python",
   "name": "python",
   "nbconvert_exporter": "python",
   "pygments_lexer": "ipython3",
   "version": "3.10.13"
  }
 },
 "nbformat": 4,
 "nbformat_minor": 5
}
