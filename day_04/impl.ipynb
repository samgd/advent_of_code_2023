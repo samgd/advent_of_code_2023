{
 "cells": [
  {
   "cell_type": "code",
   "execution_count": 1,
   "id": "959d6998-e37c-442b-b393-dab182ebeb09",
   "metadata": {},
   "outputs": [],
   "source": [
    "import doctest\n",
    "import io\n",
    "import re\n",
    "from dataclasses import dataclass\n",
    "from typing import Iterable, List"
   ]
  },
  {
   "cell_type": "code",
   "execution_count": 2,
   "id": "da2273a1-86a6-4759-a03b-2120d062c338",
   "metadata": {},
   "outputs": [],
   "source": [
    "DATA = \"input.txt\""
   ]
  },
  {
   "cell_type": "markdown",
   "id": "ff5b5d9b-4b4a-485b-a1fd-d41c4a3f3ca3",
   "metadata": {},
   "source": [
    "# Part 1"
   ]
  },
  {
   "cell_type": "code",
   "execution_count": 3,
   "id": "d613317d-51e6-4aa1-9abd-d05b966f12d0",
   "metadata": {},
   "outputs": [],
   "source": [
    "@dataclass\n",
    "class Card:\n",
    "    num: int\n",
    "    winning: set[int]\n",
    "    numbers: set[int]\n",
    "\n",
    "    @property\n",
    "    def matches(self) -> set[int]:\n",
    "        \"\"\"Returns the matches for the Card.\n",
    "\n",
    "        Example:\n",
    "\n",
    "            >>> c = Card(1, winning={41, 48, 83, 86, 17}, numbers={83, 86, 6, 31, 17, 9, 48, 53})\n",
    "            >>> sorted(list(c.matches))\n",
    "            [17, 48, 83, 86]\n",
    "        \"\"\"\n",
    "        return self.winning & self.numbers\n",
    "\n",
    "    @property\n",
    "    def points(self):\n",
    "        \"\"\"Returns the points for the Card.\n",
    "\n",
    "        Example:\n",
    "\n",
    "            >>> c = Card(1, winning={41, 48, 83, 86, 17}, numbers={83, 86, 6, 31, 17, 9, 48, 53})\n",
    "            >>> c.points\n",
    "            8\n",
    "\n",
    "            >>> c = Card(2, winning={13, 32, 20, 16, 61}, numbers={61, 30, 68, 82, 17, 32, 24, 19})\n",
    "            >>> c.points\n",
    "            2\n",
    "\n",
    "            >>> c = Card(3, winning={1, 21, 53, 59, 44}, numbers={69, 82, 63, 72, 16, 21, 14, 1})\n",
    "            >>> c.points\n",
    "            2\n",
    "\n",
    "            >>> c = Card(4, winning={41, 92, 73, 84, 69}, numbers={59, 84, 76, 51, 58, 5, 54, 83})\n",
    "            >>> c.points\n",
    "            1\n",
    "\n",
    "            >>> c = Card(5, winning={87, 83, 26, 28, 32}, numbers={88, 30, 70, 12, 93, 22, 82, 36})\n",
    "            >>> c.points\n",
    "            0\n",
    "\n",
    "            >>> c = Card(6, winning={31, 18, 13, 56, 72}, numbers={74, 77, 10, 23, 35, 67, 36, 11})\n",
    "            >>> c.points\n",
    "            0\n",
    "        \"\"\"\n",
    "        total = len(self.matches)\n",
    "        return 2**max(0, total - 1) if total > 0 else 0"
   ]
  },
  {
   "cell_type": "code",
   "execution_count": 4,
   "id": "8c0f14e3-bf41-4637-9f36-2452eb877826",
   "metadata": {},
   "outputs": [],
   "source": [
    "def parse_card(line: str) -> Card:\n",
    "    \"\"\"Returns ``Card`` from line.\n",
    "\n",
    "    Example:\n",
    "\n",
    "        >>> c = parse_card(\"Card 1: 41 48 83 86 17 | 83 86  6 31 17  9 48 53\")\n",
    "        >>> c.num == 1\n",
    "        True\n",
    "        >>> sorted(list(c.winning))\n",
    "        [17, 41, 48, 83, 86]\n",
    "        >>> sorted(list(c.numbers))\n",
    "        [6, 9, 17, 31, 48, 53, 83, 86]\n",
    "    \"\"\"\n",
    "    m = re.match(\"Card +(\\d+): (.*)\", line)\n",
    "    num = int(m.group(1))\n",
    "    winning_str, numbers_str = m.group(2).split(\"|\")\n",
    "    winning = {int(m.group(1)) for m in re.finditer(\" *(\\d+)\", winning_str)}\n",
    "    numbers = {int(m.group(1)) for m in re.finditer(\" *(\\d+)\", numbers_str)}\n",
    "    return Card(num, winning, numbers)"
   ]
  },
  {
   "cell_type": "code",
   "execution_count": 5,
   "id": "8c6d1ce0-c20b-4d4c-945a-db98e8fe4bcb",
   "metadata": {},
   "outputs": [],
   "source": [
    "def parse_cards(data: io.TextIOBase) -> Iterable[Card]:\n",
    "    return (parse_card(line) for line in data)"
   ]
  },
  {
   "cell_type": "code",
   "execution_count": 6,
   "id": "a05521d7-d551-4a43-a370-2d82dd7831c0",
   "metadata": {},
   "outputs": [],
   "source": [
    "def total_points(cards: Iterable[Card]) -> int:\n",
    "    \"\"\"Returns the total points for all cards in ``data``.\n",
    "\n",
    "    Example:\n",
    "\n",
    "        >>> data = io.StringIO('''Card 1: 41 48 83 86 17 | 83 86  6 31 17  9 48 53\n",
    "        ... Card 2: 13 32 20 16 61 | 61 30 68 82 17 32 24 19\n",
    "        ... Card 3:  1 21 53 59 44 | 69 82 63 72 16 21 14  1\n",
    "        ... Card 4: 41 92 73 84 69 | 59 84 76 51 58  5 54 83\n",
    "        ... Card 5: 87 83 26 28 32 | 88 30 70 12 93 22 82 36\n",
    "        ... Card 6: 31 18 13 56 72 | 74 77 10 23 35 67 36 11\n",
    "        ... ''')\n",
    "        >>> total_points(parse_cards(data))\n",
    "        13\n",
    "    \"\"\"\n",
    "    return sum(c.points for c in cards)"
   ]
  },
  {
   "cell_type": "code",
   "execution_count": 7,
   "id": "4a9a504f-b011-4d44-8fdf-34d2999341a2",
   "metadata": {},
   "outputs": [
    {
     "data": {
      "text/plain": [
       "TestResults(failed=0, attempted=20)"
      ]
     },
     "execution_count": 7,
     "metadata": {},
     "output_type": "execute_result"
    }
   ],
   "source": [
    "doctest.testmod()"
   ]
  },
  {
   "cell_type": "code",
   "execution_count": 8,
   "id": "a18f3169-2cb5-4390-86c4-586af3c36821",
   "metadata": {},
   "outputs": [
    {
     "name": "stdout",
     "output_type": "stream",
     "text": [
      "23028\n"
     ]
    }
   ],
   "source": [
    "with open(DATA, \"r\") as f:\n",
    "    print(total_points(parse_cards(f)))"
   ]
  },
  {
   "cell_type": "markdown",
   "id": "105ff826-93d2-47c4-85dd-57ce3d64254a",
   "metadata": {},
   "source": [
    "# Part 2"
   ]
  },
  {
   "cell_type": "code",
   "execution_count": 9,
   "id": "712f603d-46d2-4838-b177-9f290616197a",
   "metadata": {},
   "outputs": [],
   "source": [
    "def total_cards(cards: List[Card]) -> int:\n",
    "    \"\"\"Returns the total cards for ``data``.\n",
    "\n",
    "    Example:\n",
    "\n",
    "        >>> data = io.StringIO('''Card 1: 41 48 83 86 17 | 83 86  6 31 17  9 48 53\n",
    "        ... Card 2: 13 32 20 16 61 | 61 30 68 82 17 32 24 19\n",
    "        ... Card 3:  1 21 53 59 44 | 69 82 63 72 16 21 14  1\n",
    "        ... Card 4: 41 92 73 84 69 | 59 84 76 51 58  5 54 83\n",
    "        ... Card 5: 87 83 26 28 32 | 88 30 70 12 93 22 82 36\n",
    "        ... Card 6: 31 18 13 56 72 | 74 77 10 23 35 67 36 11\n",
    "        ... ''')\n",
    "        >>> total_cards(list(parse_cards(data)))\n",
    "        30\n",
    "    \"\"\"\n",
    "    totals = [1]*len(cards)\n",
    "    for i, card in enumerate(cards):\n",
    "        for j in range(len(card.matches)):\n",
    "            totals[i + j + 1] += totals[i]\n",
    "    return sum(totals)"
   ]
  },
  {
   "cell_type": "code",
   "execution_count": 10,
   "id": "7feaad79-6c82-44a6-af9d-de82a91c648c",
   "metadata": {},
   "outputs": [
    {
     "data": {
      "text/plain": [
       "TestResults(failed=0, attempted=22)"
      ]
     },
     "execution_count": 10,
     "metadata": {},
     "output_type": "execute_result"
    }
   ],
   "source": [
    "doctest.testmod()"
   ]
  },
  {
   "cell_type": "code",
   "execution_count": 11,
   "id": "75b4a436-5219-4b6d-b4cb-b4f19619e4c9",
   "metadata": {},
   "outputs": [],
   "source": [
    "with open(DATA, \"r\") as f:\n",
    "    cards = list(parse_cards(f))"
   ]
  },
  {
   "cell_type": "code",
   "execution_count": 12,
   "id": "ba864a38-2148-442e-953b-c56cd9b1b6d5",
   "metadata": {},
   "outputs": [
    {
     "name": "stdout",
     "output_type": "stream",
     "text": [
      "9236992\n"
     ]
    }
   ],
   "source": [
    "print(total_cards(cards))"
   ]
  }
 ],
 "metadata": {
  "kernelspec": {
   "display_name": "Python 3 (ipykernel)",
   "language": "python",
   "name": "python3"
  },
  "language_info": {
   "codemirror_mode": {
    "name": "ipython",
    "version": 3
   },
   "file_extension": ".py",
   "mimetype": "text/x-python",
   "name": "python",
   "nbconvert_exporter": "python",
   "pygments_lexer": "ipython3",
   "version": "3.10.13"
  }
 },
 "nbformat": 4,
 "nbformat_minor": 5
}
