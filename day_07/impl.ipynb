{
 "cells": [
  {
   "cell_type": "code",
   "execution_count": 1,
   "id": "1c9c9153-a4fa-4859-966c-e11c81e030c2",
   "metadata": {},
   "outputs": [],
   "source": [
    "import doctest\n",
    "import enum\n",
    "import io\n",
    "from collections import Counter\n",
    "from dataclasses import dataclass\n",
    "from functools import cached_property\n",
    "from typing import List, Tuple"
   ]
  },
  {
   "cell_type": "code",
   "execution_count": 2,
   "id": "7ff643e1-6542-4d33-9d2f-c3e1f80a8ed8",
   "metadata": {},
   "outputs": [],
   "source": [
    "DATA = \"input.txt\""
   ]
  },
  {
   "cell_type": "markdown",
   "id": "aa31cf0b-a2c2-4f14-8877-e79f17441eb5",
   "metadata": {},
   "source": [
    "# Part 1\n",
    "\n",
    "Idea: hands are implemented as classes with comparison methods that checks the type attribute and, if necessary, the card strength(s). Cards can then be sorted to give the overall rank and then multiplied by the associated bids."
   ]
  },
  {
   "cell_type": "code",
   "execution_count": 3,
   "id": "6e3cdb31-46c7-42ce-bc44-b9e78086951c",
   "metadata": {},
   "outputs": [],
   "source": [
    "class Card(enum.IntEnum):\n",
    "    C_2 = enum.auto()\n",
    "    C_3 = enum.auto()\n",
    "    C_4 = enum.auto()\n",
    "    C_5 = enum.auto()\n",
    "    C_6 = enum.auto()\n",
    "    C_7 = enum.auto()\n",
    "    C_8 = enum.auto()\n",
    "    C_9 = enum.auto()\n",
    "    C_T = enum.auto()\n",
    "    C_J = enum.auto()\n",
    "    C_Q = enum.auto()\n",
    "    C_K = enum.auto()\n",
    "    C_A = enum.auto()\n",
    "\n",
    "    def __str__(self) -> str:\n",
    "        return _card_to_str[self]\n",
    "\n",
    "    @staticmethod\n",
    "    def from_str(s: str) -> \"Card\":\n",
    "        return _str_to_card[s] \n",
    "\n",
    "# should refactor to tidy this up! works for AoC \n",
    "_str_to_card = dict(zip(\"23456789TJQKA\", list(Card)))\n",
    "_card_to_str = {c: s for s, c in _str_to_card.items()}\n",
    "\n",
    "\n",
    "class HandType(enum.IntEnum):\n",
    "    HighCard    = enum.auto()\n",
    "    OnePair     = enum.auto()\n",
    "    TwoPair     = enum.auto()\n",
    "    ThreeOfKind = enum.auto()\n",
    "    FullHouse   = enum.auto()\n",
    "    FourOfKind  = enum.auto()\n",
    "    FiveOfKind  = enum.auto()\n",
    "\n",
    "\n",
    "@dataclass\n",
    "class Hand:\n",
    "    cards: List[Card]\n",
    "\n",
    "    def __str__(self) -> str:\n",
    "        return ''.join([str(c) for c in self.cards])\n",
    "\n",
    "    @staticmethod\n",
    "    def from_str(s: str) -> \"Hand\":\n",
    "        return Hand([Card.from_str(c) for c in s])\n",
    "\n",
    "    def __lt__(self, other: \"Hand\") -> bool:\n",
    "        \"\"\"\n",
    "\n",
    "        Example:\n",
    "\n",
    "            >>> h1 = Hand.from_str(\"33332\")\n",
    "            >>> h2 = Hand.from_str(\"2AAAA\")\n",
    "            >>> h1 < h2\n",
    "            False\n",
    "        \"\"\"\n",
    "        if self.hand_type < other.hand_type:\n",
    "            return True\n",
    "        if self.hand_type > other.hand_type:\n",
    "            return False\n",
    "        for i in range(len(self.cards)):\n",
    "            if self.cards[i] == other.cards[i]:\n",
    "                continue\n",
    "            return self.cards[i] < other.cards[i]\n",
    "\n",
    "    @cached_property\n",
    "    def hand_type(self) -> HandType:\n",
    "        \"\"\"Returns the ``HandType``.\n",
    "\n",
    "        Example:\n",
    "\n",
    "            >>> h = Hand([Card.C_A, Card.C_Q, Card.C_Q, Card.C_A, Card.C_2])\n",
    "            >>> h.hand_type() == HandType.TwoPair\n",
    "            True\n",
    "        \"\"\"\n",
    "        cnts = Counter(self.cards)\n",
    "        total, max_cnt = len(cnts), max(cnts.values())\n",
    "        match total, max_cnt:\n",
    "            case 1, _:\n",
    "                return HandType.FiveOfKind\n",
    "            case 2, 4:\n",
    "                return HandType.FourOfKind\n",
    "            case 2, _:\n",
    "                return HandType.FullHouse\n",
    "            case 3, 3:\n",
    "                return HandType.ThreeOfKind\n",
    "            case 3, 2:\n",
    "                return HandType.TwoPair\n",
    "            case 4, 2:\n",
    "                return HandType.OnePair\n",
    "            case 5, _:\n",
    "                return HandType.HighCard\n",
    "        raise ValueError(f\"hand_type failed {self}\")"
   ]
  },
  {
   "cell_type": "code",
   "execution_count": 4,
   "id": "b5fdd0d7-a941-4ddc-b722-9e9e2fb64dc8",
   "metadata": {},
   "outputs": [],
   "source": [
    "def parse_input(data: io.TextIOBase, hand_cls: Hand = Hand) -> Tuple[List[Hand], List[int]]:\n",
    "    \"\"\"Returns a list of hands and a list of bids.\n",
    "\n",
    "    Example:\n",
    "\n",
    "        >>> data = io.StringIO('''32T3K 765\n",
    "        ... T55J5 684\n",
    "        ... KK677 28\n",
    "        ... KTJJT 220\n",
    "        ... QQQJA 483''')\n",
    "        >>> hands, bids = parse_input(data)\n",
    "        >>> for h, b in zip(hands, bids):\n",
    "        ...     print(b, h)\n",
    "        765 32T3K\n",
    "        684 T55J5\n",
    "        28 KK677\n",
    "        220 KTJJT\n",
    "        483 QQQJA\n",
    "    \"\"\"\n",
    "    hands = []\n",
    "    bids = []\n",
    "    for line in data:\n",
    "        hand_str, bid_str = line.split()\n",
    "        hands.append(hand_cls.from_str(hand_str))\n",
    "        bids.append(int(bid_str))\n",
    "    return hands, bids"
   ]
  },
  {
   "cell_type": "code",
   "execution_count": 5,
   "id": "97d77660-4f1c-43da-a618-8fab495ccb3b",
   "metadata": {},
   "outputs": [],
   "source": [
    "def total_winnings(hands: List[int], bids: List[int]) -> int:\n",
    "    \"\"\"Returns the total winnings.\n",
    "\n",
    "    Example:\n",
    "\n",
    "        >>> data = io.StringIO('''32T3K 765\n",
    "        ... T55J5 684\n",
    "        ... KK677 28\n",
    "        ... KTJJT 220\n",
    "        ... QQQJA 483''')\n",
    "        >>> hands, bids = parse_input(data)\n",
    "        >>> total_winnings(hands, bids)\n",
    "        6440\n",
    "    \"\"\"\n",
    "    hand_bids = list(zip(hands, bids))\n",
    "    hand_bids = sorted(hand_bids, key=lambda hb: hb[0])\n",
    "    return sum(rank*bid for rank, (_, bid) in enumerate(hand_bids, start=1))"
   ]
  },
  {
   "cell_type": "code",
   "execution_count": 6,
   "id": "754fa08b-f163-4865-8ffc-fa964d2d4948",
   "metadata": {},
   "outputs": [
    {
     "data": {
      "text/plain": [
       "TestResults(failed=0, attempted=9)"
      ]
     },
     "execution_count": 6,
     "metadata": {},
     "output_type": "execute_result"
    }
   ],
   "source": [
    "doctest.testmod()"
   ]
  },
  {
   "cell_type": "code",
   "execution_count": 7,
   "id": "d6c6c5c7-568e-4e62-b133-11baa24ca18b",
   "metadata": {},
   "outputs": [
    {
     "data": {
      "text/plain": [
       "250946742"
      ]
     },
     "execution_count": 7,
     "metadata": {},
     "output_type": "execute_result"
    }
   ],
   "source": [
    "with open(DATA, \"r\") as f:\n",
    "    hands, bids = parse_input(f)\n",
    "total_winnings(hands, bids)"
   ]
  },
  {
   "cell_type": "markdown",
   "id": "416688bd-f174-4979-b31c-306569318fc8",
   "metadata": {},
   "source": [
    "# Part 2\n",
    "\n",
    "The `hand_type` logic needs updating to account for the joker being a wildcard and the `__lt__` logic needs updating to account for the joker now being the weakest card. \n",
    "\n",
    "The `hand_type` logic reassigns the joker counts to the card with highest count.\n",
    "\n",
    "Ideally the `__lt__` logic would \"just work\" as a `JokerCard` subclass or something could be created with a lower joker value but Python doesn't allow enum subclasses so rewriting `__lt__` seems simplest, albiet not ideal, for an AoC implementation."
   ]
  },
  {
   "cell_type": "code",
   "execution_count": 8,
   "id": "3e19231f-bb3c-4aa7-867a-c42f5f1ace17",
   "metadata": {},
   "outputs": [],
   "source": [
    "class JokerHand(Hand):\n",
    "    @staticmethod\n",
    "    def from_str(s: str) -> \"Hand\":\n",
    "        return JokerHand([Card.from_str(c) for c in s])\n",
    "    \n",
    "    def __lt__(self, other: \"JokerHand\") -> bool:\n",
    "        \"\"\"\n",
    "\n",
    "        Example:\n",
    "\n",
    "            >>> h1 = JokerHand.from_str(\"Q3QQQ\")\n",
    "            >>> h2 = JokerHand.from_str(\"QJQQ4\")\n",
    "            >>> h1 < h2\n",
    "            False\n",
    "        \"\"\"\n",
    "        if self.hand_type < other.hand_type:\n",
    "            return True\n",
    "        if self.hand_type > other.hand_type:\n",
    "            return False\n",
    "        for i in range(len(self.cards)):\n",
    "            if self.cards[i] == other.cards[i]:\n",
    "                continue\n",
    "            c_i = int(self.cards[i])\n",
    "            o_i = int(other.cards[i])\n",
    "            if c_i == int(Card.C_J):\n",
    "                c_i = Card.C_2 - 1\n",
    "            if o_i == int(Card.C_J):\n",
    "                o_i = Card.C_2 - 1\n",
    "            return c_i < o_i\n",
    "\n",
    "    @cached_property\n",
    "    def hand_type(self) -> HandType:\n",
    "        cnts = Counter(self.cards)\n",
    "        if Card.C_J in cnts and len(cnts) > 1:\n",
    "            cnt_j = cnts.pop(Card.C_J)\n",
    "            max_card = max(cnts.items(), key=lambda x: x[1])[0]\n",
    "            cnts[max_card] += cnt_j\n",
    "        total, max_cnt = len(cnts), max(cnts.values())\n",
    "        match total, max_cnt:\n",
    "            case 1, _:\n",
    "                return HandType.FiveOfKind\n",
    "            case 2, 4:\n",
    "                return HandType.FourOfKind\n",
    "            case 2, _:\n",
    "                return HandType.FullHouse\n",
    "            case 3, 3:\n",
    "                return HandType.ThreeOfKind\n",
    "            case 3, 2:\n",
    "                return HandType.TwoPair\n",
    "            case 4, 2:\n",
    "                return HandType.OnePair\n",
    "            case 5, _:\n",
    "                return HandType.HighCard\n",
    "        raise ValueError(f\"hand_type failed {self}\")"
   ]
  },
  {
   "cell_type": "code",
   "execution_count": 9,
   "id": "077549c0-f6f2-48da-8255-756813014a28",
   "metadata": {},
   "outputs": [
    {
     "data": {
      "text/plain": [
       "TestResults(failed=0, attempted=12)"
      ]
     },
     "execution_count": 9,
     "metadata": {},
     "output_type": "execute_result"
    }
   ],
   "source": [
    "doctest.testmod()"
   ]
  },
  {
   "cell_type": "code",
   "execution_count": 10,
   "id": "12bfaaed-ae58-4a7c-97bb-69dfca4c599f",
   "metadata": {},
   "outputs": [
    {
     "data": {
      "text/plain": [
       "251824095"
      ]
     },
     "execution_count": 10,
     "metadata": {},
     "output_type": "execute_result"
    }
   ],
   "source": [
    "with open(DATA, \"r\") as f:\n",
    "    hands, bids = parse_input(f, hand_cls=JokerHand)\n",
    "total_winnings(hands, bids)"
   ]
  }
 ],
 "metadata": {
  "kernelspec": {
   "display_name": "Python 3 (ipykernel)",
   "language": "python",
   "name": "python3"
  },
  "language_info": {
   "codemirror_mode": {
    "name": "ipython",
    "version": 3
   },
   "file_extension": ".py",
   "mimetype": "text/x-python",
   "name": "python",
   "nbconvert_exporter": "python",
   "pygments_lexer": "ipython3",
   "version": "3.10.13"
  }
 },
 "nbformat": 4,
 "nbformat_minor": 5
}
