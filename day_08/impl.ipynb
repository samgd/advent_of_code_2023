{
 "cells": [
  {
   "cell_type": "code",
   "execution_count": 1,
   "id": "69fafe66-ced4-44c5-8599-ed382f211c97",
   "metadata": {},
   "outputs": [],
   "source": [
    "import doctest\n",
    "import io\n",
    "import math\n",
    "import re\n",
    "from itertools import cycle\n",
    "from typing import List, Tuple"
   ]
  },
  {
   "cell_type": "code",
   "execution_count": 2,
   "id": "a5d12269-1ad3-4a2c-8e48-b5d6054bb6d1",
   "metadata": {},
   "outputs": [],
   "source": [
    "DATA = \"input.txt\""
   ]
  },
  {
   "cell_type": "markdown",
   "id": "2510d0e9-b987-4af9-b9d1-3a68a4755afd",
   "metadata": {},
   "source": [
    "# Part 1\n",
    "\n",
    "Store directed, possibly cyclical, graph in a dict and follow instructions until `ZZZ` is reached."
   ]
  },
  {
   "cell_type": "code",
   "execution_count": 3,
   "id": "e7b8e645-c6f5-4e69-9335-05213afbdd0c",
   "metadata": {},
   "outputs": [],
   "source": [
    "Graph = dict[str, str]"
   ]
  },
  {
   "cell_type": "code",
   "execution_count": 4,
   "id": "b892b697-677b-45b2-9dd0-fb306b764ae5",
   "metadata": {},
   "outputs": [],
   "source": [
    "def parse_input(data: io.TextIOBase) -> Tuple[str, Graph]:\n",
    "    \"\"\"Returns the instruction string and graph.\n",
    "\n",
    "    Example:\n",
    "        >>> data = io.StringIO('''LLR\n",
    "        ...\n",
    "        ... AAA = (BBB, BBB)\n",
    "        ... BBB = (AAA, ZZZ)\n",
    "        ... ZZZ = (ZZZ, ZZZ)\n",
    "        ... ''')\n",
    "        >>> ins, graph = parse_input(data)\n",
    "        >>> ins\n",
    "        'LLR'\n",
    "        >>> graph\n",
    "        {'AAA': ('BBB', 'BBB'), 'BBB': ('AAA', 'ZZZ'), 'ZZZ': ('ZZZ', 'ZZZ')}\n",
    "    \"\"\" \n",
    "    data_iter = iter(data)\n",
    "    ins = next(data_iter).strip()\n",
    "    next(data_iter) # skip blank line\n",
    "    graph = {}\n",
    "    pattern = re.compile(\"([A-Z0-9]+) = \\(([A-Z0-9]+), ([A-Z0-9]+)\\)\\s?\")\n",
    "    for line in data_iter:\n",
    "        m = pattern.match(line)\n",
    "        graph[m.group(1)] = (m.group(2), m.group(3))\n",
    "    return ins, graph"
   ]
  },
  {
   "cell_type": "code",
   "execution_count": 5,
   "id": "1c40401d-1683-4406-8232-770451d04e03",
   "metadata": {},
   "outputs": [],
   "source": [
    "def n_steps(ins: str, graph: Graph) -> int:\n",
    "    \"\"\"Returns the number of steps to reach ZZZ from AAA.\n",
    "\n",
    "    Example:\n",
    "\n",
    "        >>> ins = \"LLR\"\n",
    "        >>> graph = {'AAA': ('BBB', 'BBB'), 'BBB': ('AAA', 'ZZZ'), 'ZZZ': ('ZZZ', 'ZZZ')}\n",
    "        >>> n_steps(ins, graph)\n",
    "        6\n",
    "    \"\"\"\n",
    "    element = \"AAA\"\n",
    "    cnt = 0\n",
    "    for i in cycle(ins):\n",
    "        if element == \"ZZZ\":\n",
    "            break\n",
    "        if i == \"L\":\n",
    "            element = graph[element][0]\n",
    "        else:\n",
    "            element = graph[element][1]\n",
    "        cnt += 1\n",
    "    return cnt"
   ]
  },
  {
   "cell_type": "code",
   "execution_count": 6,
   "id": "ef0568f2-9cb7-4839-accf-c4215ebaf779",
   "metadata": {},
   "outputs": [
    {
     "data": {
      "text/plain": [
       "TestResults(failed=0, attempted=7)"
      ]
     },
     "execution_count": 6,
     "metadata": {},
     "output_type": "execute_result"
    }
   ],
   "source": [
    "doctest.testmod()"
   ]
  },
  {
   "cell_type": "code",
   "execution_count": 7,
   "id": "345e514d-d68e-4fd5-9f41-1352ebaf539e",
   "metadata": {},
   "outputs": [],
   "source": [
    "with open(DATA, \"r\") as f:\n",
    "    ins, graph = parse_input(f)"
   ]
  },
  {
   "cell_type": "code",
   "execution_count": 8,
   "id": "5120343e-74e0-411f-97ce-d374f5f30ca0",
   "metadata": {},
   "outputs": [
    {
     "data": {
      "text/plain": [
       "19951"
      ]
     },
     "execution_count": 8,
     "metadata": {},
     "output_type": "execute_result"
    }
   ],
   "source": [
    "n_steps(ins, graph)"
   ]
  },
  {
   "cell_type": "markdown",
   "id": "2b23a46b-9481-41a3-86c3-337b42df77a6",
   "metadata": {},
   "source": [
    "# Part 2\n",
    "\n",
    "In theory it's the same as above but for multiple states. In practice the naive implementation seems slow so instead we'll find the number of steps required for each state to reach all Z ending states before encounting a loop and then find the least common multiple of all of these numbers. \n",
    "\n",
    "e.g. if there were 4 starting states that reached a Z ending state in 2, 3, 4, and 6 steps respectively the least common multiple -- the point at which they are all on a state ending in Z -- would be 12. "
   ]
  },
  {
   "cell_type": "code",
   "execution_count": 9,
   "id": "046cbb27-3264-456c-a6cd-0c78cc240b37",
   "metadata": {},
   "outputs": [],
   "source": [
    "def n_steps_2(ins: str, graph: Graph, start_state: str) -> List[int]:\n",
    "    \"\"\"Returns the number of steps to reach XXZ nodes from `start_state`.\n",
    "\n",
    "    Example:\n",
    "\n",
    "        >>> ins = \"LR\"\n",
    "        >>> graph = {'11A': ('11B', 'XXX'), '11B': ('XXX', '11Z'), '11Z': ('11B', 'XXX')}\n",
    "        >>> n_steps_2(ins, graph, \"11A\")\n",
    "        [2]\n",
    "    \"\"\"\n",
    "    element = start_state\n",
    "    visited = set()\n",
    "    cnt = 0\n",
    "    cnts = []\n",
    "    for ins_pos, i in cycle(zip(range(len(ins)), ins)):\n",
    "        if (element, ins_pos) in visited:\n",
    "            break\n",
    "        visited.add((element, ins_pos))\n",
    "        \n",
    "        if element[2] == \"Z\":\n",
    "            cnts.append(cnt)\n",
    "            \n",
    "        if i == \"L\":\n",
    "            element = graph[element][0]\n",
    "        else:\n",
    "            element = graph[element][1]\n",
    "        cnt += 1\n",
    "    return cnts"
   ]
  },
  {
   "cell_type": "code",
   "execution_count": 10,
   "id": "30de29bd-c146-4cca-b7bc-ff9b38202db1",
   "metadata": {},
   "outputs": [
    {
     "data": {
      "text/plain": [
       "TestResults(failed=0, attempted=10)"
      ]
     },
     "execution_count": 10,
     "metadata": {},
     "output_type": "execute_result"
    }
   ],
   "source": [
    "doctest.testmod()"
   ]
  },
  {
   "cell_type": "code",
   "execution_count": 11,
   "id": "66787885-c498-46c0-918c-e3cd2a9e3916",
   "metadata": {},
   "outputs": [],
   "source": [
    "with open(DATA, \"r\") as f:\n",
    "    ins, graph = parse_input(f)"
   ]
  },
  {
   "cell_type": "code",
   "execution_count": 12,
   "id": "21622735-c312-4b94-a5c3-eb1459a9e40d",
   "metadata": {},
   "outputs": [],
   "source": [
    "start_states = [s for s in graph if s[2] == \"A\"]\n",
    "steps_to_z = []\n",
    "for s in start_states:\n",
    "    steps_to_z.extend(n_steps_2(ins, graph, s))"
   ]
  },
  {
   "cell_type": "code",
   "execution_count": 13,
   "id": "6460667c-172a-40ed-b32a-59f3f0f4002c",
   "metadata": {},
   "outputs": [
    {
     "data": {
      "text/plain": [
       "16342438708751"
      ]
     },
     "execution_count": 13,
     "metadata": {},
     "output_type": "execute_result"
    }
   ],
   "source": [
    "math.lcm(*steps_to_z)"
   ]
  }
 ],
 "metadata": {
  "kernelspec": {
   "display_name": "Python 3 (ipykernel)",
   "language": "python",
   "name": "python3"
  },
  "language_info": {
   "codemirror_mode": {
    "name": "ipython",
    "version": 3
   },
   "file_extension": ".py",
   "mimetype": "text/x-python",
   "name": "python",
   "nbconvert_exporter": "python",
   "pygments_lexer": "ipython3",
   "version": "3.10.13"
  }
 },
 "nbformat": 4,
 "nbformat_minor": 5
}
