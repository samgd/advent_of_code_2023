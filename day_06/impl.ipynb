{
 "cells": [
  {
   "cell_type": "code",
   "execution_count": 1,
   "id": "21d0438d-31bf-4728-84ec-1d11a4ca9156",
   "metadata": {},
   "outputs": [],
   "source": [
    "import doctest\n",
    "import io\n",
    "import math\n",
    "from typing import List, Tuple\n",
    "\n",
    "import matplotlib.pyplot as plt"
   ]
  },
  {
   "cell_type": "code",
   "execution_count": 2,
   "id": "05512794-3dae-4ae4-892b-6610387ad015",
   "metadata": {},
   "outputs": [],
   "source": [
    "DATA = \"input.txt\""
   ]
  },
  {
   "cell_type": "markdown",
   "id": "941779a3-bce9-4a0b-9169-1180eef92df8",
   "metadata": {},
   "source": [
    "# Part 1\n",
    "\n",
    "The problem forms an inverse parabola defined by the formula $y = (T - t)t$ where $T$ is the race time and $t$ is the time the button is held for. e.g. for the race that lasts 7 milliseconds, if the button is held for 3 milliseconds there is $7 - 3 = 4$ milliseconds remaining and the boat travels at $t = 3$ millimeters per millisecond.\n",
    "\n",
    "Plotting the example and the equation:"
   ]
  },
  {
   "cell_type": "code",
   "execution_count": 3,
   "id": "0bd0a663-0798-4e72-989a-69caa5686c04",
   "metadata": {},
   "outputs": [
    {
     "data": {
      "image/png": "[encoded data removed]",
      "text/plain": [
       "<Figure size 800x400 with 1 Axes>"
      ]
     },
     "metadata": {},
     "output_type": "display_data"
    }
   ],
   "source": [
    "fig, ax = plt.subplots(figsize=(8, 4))\n",
    "\n",
    "x = [0, 1, 2, 3, 4, 5, 6, 7]\n",
    "y = [0, 6, 10, 12, 12, 10, 6, 0]\n",
    "ax.scatter(x, y, label=\"example\")\n",
    "\n",
    "x = list([7 * (i / 1000) for i in range(1000 + 1)])\n",
    "y = [(7 - t)*t for t in x]\n",
    "ax.plot(x, y, label=\"equation\", color=\"C1\")\n",
    "\n",
    "ax.legend()\n",
    "plt.show()"
   ]
  },
  {
   "cell_type": "markdown",
   "id": "06f3fa52-b9fc-4de5-a65b-e92a88d7f6ca",
   "metadata": {},
   "source": [
    "To find the number of solutions we need to solve the equation for the record distance and then find the total points between them."
   ]
  },
  {
   "cell_type": "code",
   "execution_count": 4,
   "id": "4d514787-fcfd-4bdb-9de7-a7c878915fa4",
   "metadata": {},
   "outputs": [],
   "source": [
    "def better_ways(race_time: int, record: int) -> int:\n",
    "    \"\"\"Returns the number of ways ``record`` can be beaten.\n",
    "\n",
    "    Example:\n",
    "\n",
    "        >>> better_ways(7, 9)\n",
    "        4\n",
    "        >>> better_ways(15, 40)\n",
    "        8\n",
    "        >>> better_ways(30, 200)\n",
    "        9\n",
    "    \"\"\"\n",
    "    sqrt_disc = math.sqrt((-race_time)**2 - 4*record)\n",
    "    l = (race_time - sqrt_disc) / 2\n",
    "    r = (race_time + sqrt_disc) / 2\n",
    "    n = math.floor(r) - math.ceil(l) + 1\n",
    "    # exclude endpoints, needs to be better than not equal to\n",
    "    if math.floor(r) == math.ceil(r):\n",
    "        n -= 1\n",
    "    if math.floor(l) == math.ceil(l):\n",
    "        n -= 1\n",
    "    return n"
   ]
  },
  {
   "cell_type": "code",
   "execution_count": 5,
   "id": "5f28bdb3-a9ad-44fe-b9b2-198a5db2b4e7",
   "metadata": {},
   "outputs": [
    {
     "data": {
      "text/plain": [
       "9"
      ]
     },
     "execution_count": 5,
     "metadata": {},
     "output_type": "execute_result"
    }
   ],
   "source": [
    "better_ways(30, 200)"
   ]
  },
  {
   "cell_type": "code",
   "execution_count": 6,
   "id": "c1d4b5b3-9a04-447f-9aa9-523da8bf6ed5",
   "metadata": {},
   "outputs": [],
   "source": [
    "def parse_input(data: io.TextIOBase) -> List[Tuple[int, int]]:\n",
    "    \"\"\"Returns the time and distance tuples from input.\n",
    "\n",
    "    Example:\n",
    "\n",
    "        >>> data = io.StringIO('''Time:      7  15   30\n",
    "        ... Distance:  9  40  200\n",
    "        ... ''')\n",
    "        >>> parse_input(data)\n",
    "        [(7, 9), (15, 40), (30, 200)]\n",
    "    \"\"\"\n",
    "    data_iter = iter(data)\n",
    "    times = [int(t) for t in next(data_iter).split()[1:]]\n",
    "    dists = [int(d) for d in next(data_iter).split()[1:]]\n",
    "    return list(zip(times, dists))"
   ]
  },
  {
   "cell_type": "code",
   "execution_count": 7,
   "id": "b88ed6b4-b18f-4b8b-884e-45c893bb7f07",
   "metadata": {},
   "outputs": [
    {
     "data": {
      "text/plain": [
       "TestResults(failed=0, attempted=5)"
      ]
     },
     "execution_count": 7,
     "metadata": {},
     "output_type": "execute_result"
    }
   ],
   "source": [
    "doctest.testmod()"
   ]
  },
  {
   "cell_type": "code",
   "execution_count": 8,
   "id": "3ce57868-c44b-4f4d-9f87-58ca5e9dbdf6",
   "metadata": {},
   "outputs": [
    {
     "data": {
      "text/plain": [
       "741000"
      ]
     },
     "execution_count": 8,
     "metadata": {},
     "output_type": "execute_result"
    }
   ],
   "source": [
    "with open(DATA, \"r\") as f:\n",
    "    races = parse_input(f)\n",
    "math.prod([better_ways(race_time, record) for race_time, record in races])"
   ]
  },
  {
   "cell_type": "markdown",
   "id": "8ca2f45c-19c0-4879-8be3-5ffaa145dc35",
   "metadata": {},
   "source": [
    "# Part 2\n",
    "\n",
    "Use Part 1 solution, just need to update the input parsing!"
   ]
  },
  {
   "cell_type": "code",
   "execution_count": 9,
   "id": "bd56746b-3373-4b05-95e1-2e8e15dbb578",
   "metadata": {},
   "outputs": [],
   "source": [
    "def parse_input_2(data: io.TextIOBase) -> Tuple[int, int]:\n",
    "    \"\"\"Returns the time and distance from input.\n",
    "\n",
    "    Example:\n",
    "\n",
    "        >>> data = io.StringIO('''Time:      7  15   30\n",
    "        ... Distance:  9  40  200\n",
    "        ... ''')\n",
    "        >>> parse_input_2(data)\n",
    "        (71530, 940200)\n",
    "    \"\"\"\n",
    "    data_iter = iter(data)\n",
    "    time = int(\"\".join(next(data_iter).split()[1:]))\n",
    "    dist = int(\"\".join(next(data_iter).split()[1:]))\n",
    "    return time, dist"
   ]
  },
  {
   "cell_type": "code",
   "execution_count": 10,
   "id": "3b5b85bb-9336-4245-8e52-7d27b6129e35",
   "metadata": {},
   "outputs": [
    {
     "data": {
      "text/plain": [
       "TestResults(failed=0, attempted=7)"
      ]
     },
     "execution_count": 10,
     "metadata": {},
     "output_type": "execute_result"
    }
   ],
   "source": [
    "doctest.testmod()"
   ]
  },
  {
   "cell_type": "code",
   "execution_count": 11,
   "id": "8873de27-c0f1-4ffd-8e86-8af88b14cf47",
   "metadata": {},
   "outputs": [
    {
     "data": {
      "text/plain": [
       "38220708"
      ]
     },
     "execution_count": 11,
     "metadata": {},
     "output_type": "execute_result"
    }
   ],
   "source": [
    "with open(DATA, \"r\") as f:\n",
    "    time, dist = parse_input_2(f)\n",
    "better_ways(time, dist)"
   ]
  }
 ],
 "metadata": {
  "kernelspec": {
   "display_name": "Python 3 (ipykernel)",
   "language": "python",
   "name": "python3"
  },
  "language_info": {
   "codemirror_mode": {
    "name": "ipython",
    "version": 3
   },
   "file_extension": ".py",
   "mimetype": "text/x-python",
   "name": "python",
   "nbconvert_exporter": "python",
   "pygments_lexer": "ipython3",
   "version": "3.10.13"
  }
 },
 "nbformat": 4,
 "nbformat_minor": 5
}
