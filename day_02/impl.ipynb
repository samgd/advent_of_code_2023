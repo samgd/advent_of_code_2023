{
 "cells": [
  {
   "cell_type": "code",
   "execution_count": 1,
   "id": "d070c6fd-3a1a-479a-915f-364f69d34998",
   "metadata": {},
   "outputs": [],
   "source": [
    "import doctest\n",
    "import re\n",
    "from dataclasses import dataclass\n",
    "from math import prod as power\n",
    "from typing import List, Tuple"
   ]
  },
  {
   "cell_type": "code",
   "execution_count": 2,
   "id": "7d011b6c-ea55-40fd-834c-fa9b26717ec1",
   "metadata": {},
   "outputs": [],
   "source": [
    "DATA = \"input.txt\""
   ]
  },
  {
   "cell_type": "markdown",
   "id": "2f2fa055-d615-4917-9ad5-d77fb5c35d6a",
   "metadata": {},
   "source": [
    "# Part 1"
   ]
  },
  {
   "cell_type": "code",
   "execution_count": 3,
   "id": "df4d59ac-6f6b-4e89-9f35-25b1029a7105",
   "metadata": {},
   "outputs": [],
   "source": [
    "@dataclass\n",
    "class Draw:\n",
    "    R: int = 0\n",
    "    G: int = 0\n",
    "    B: int = 0\n",
    "\n",
    "@dataclass\n",
    "class Game:\n",
    "    id: int\n",
    "    draws: List[Draw]"
   ]
  },
  {
   "cell_type": "code",
   "execution_count": 4,
   "id": "05c1d82f-d555-4c11-90b2-cfd7cd4d6818",
   "metadata": {},
   "outputs": [],
   "source": [
    "def parse_game(line: str) -> Game:\n",
    "    \"\"\"\n",
    "\n",
    "    Example:\n",
    "\n",
    "        >>> parse_game(\"Game 1: 3 blue, 4 red; 1 red, 2 green, 6 blue; 2 green\")\n",
    "        Game(id=1, draws=[Draw(R=4, G=0, B=3), Draw(R=1, G=2, B=6), Draw(R=0, G=2, B=0)])\n",
    "\n",
    "        >>> parse_game(\"Game 2: 1 blue, 2 green; 3 green, 4 blue, 1 red; 1 green, 1 blue\")\n",
    "        Game(id=2, draws=[Draw(R=0, G=2, B=1), Draw(R=1, G=3, B=4), Draw(R=0, G=1, B=1)])\n",
    "\n",
    "        >>> parse_game(\"Game 3: 8 green, 6 blue, 20 red; 5 blue, 4 red, 13 green; 5 green, 1 red\")\n",
    "        Game(id=3, draws=[Draw(R=20, G=8, B=6), Draw(R=4, G=13, B=5), Draw(R=1, G=5, B=0)])\n",
    "\n",
    "        >>> parse_game(\"Game 4: 1 green, 3 red, 6 blue; 3 green, 6 red; 3 green, 15 blue, 14 red\")\n",
    "        Game(id=4, draws=[Draw(R=3, G=1, B=6), Draw(R=6, G=3, B=0), Draw(R=14, G=3, B=15)])\n",
    "\n",
    "        >>> parse_game(\"Game 5: 6 red, 1 blue, 3 green; 2 blue, 1 red, 2 green\")\n",
    "        Game(id=5, draws=[Draw(R=6, G=3, B=1), Draw(R=1, G=2, B=2)])\n",
    "    \"\"\"\n",
    "    game_draws = re.match(\"Game (\\d+):(.*)\", line)\n",
    "    game_id = int(game_draws.group(1))\n",
    "    ps = [re.compile(f\".* (\\d+) {color}.*\") for color in [\"red\", \"green\", \"blue\"]]\n",
    "    draws = []\n",
    "    for draw in game_draws.group(2).split(\";\"):\n",
    "        r, g, b = [p.match(draw) for p in ps]\n",
    "        draws.append(\n",
    "            Draw(\n",
    "                R=int(r.group(1)) if r else 0,\n",
    "                G=int(g.group(1)) if g else 0,\n",
    "                B=int(b.group(1)) if b else 0\n",
    "            )\n",
    "        )\n",
    "    return Game(id=game_id, draws=draws)"
   ]
  },
  {
   "cell_type": "code",
   "execution_count": 5,
   "id": "740bd8c5-b8f0-4cc9-b573-a833d90197a3",
   "metadata": {},
   "outputs": [],
   "source": [
    "def is_possible(game: Game, red: int, green: int, blue: int) -> bool:\n",
    "    \"\"\"Return True if ``game`` was possible for given bag cubes.\n",
    "\n",
    "    Example:\n",
    "\n",
    "        >>> game = parse_game(\"Game 3: 8 green, 6 blue, 20 red; 5 blue, 4 red, 13 green; 5 green, 1 red\")\n",
    "        >>> is_possible(game, red=12, green=13, blue=14)\n",
    "        False\n",
    "    \"\"\"\n",
    "    return all(\n",
    "        (draw.R <= red) and (draw.G <= green) and (draw.B <= blue)\n",
    "        for draw in game.draws\n",
    "    )"
   ]
  },
  {
   "cell_type": "code",
   "execution_count": 6,
   "id": "27199cee-4d45-448f-8c27-b17eb93d1200",
   "metadata": {},
   "outputs": [
    {
     "data": {
      "text/plain": [
       "TestResults(failed=0, attempted=7)"
      ]
     },
     "execution_count": 6,
     "metadata": {},
     "output_type": "execute_result"
    }
   ],
   "source": [
    "doctest.testmod()"
   ]
  },
  {
   "cell_type": "code",
   "execution_count": 7,
   "id": "37b04da0-a4a6-4ec7-b3a2-aa75e10d1f6a",
   "metadata": {},
   "outputs": [
    {
     "data": {
      "text/plain": [
       "2439"
      ]
     },
     "execution_count": 7,
     "metadata": {},
     "output_type": "execute_result"
    }
   ],
   "source": [
    "games = []\n",
    "\n",
    "with open(DATA, \"r\") as f:\n",
    "    for line in f:\n",
    "        games.append(parse_game(line))\n",
    "\n",
    "sum(g.id for g in games if is_possible(g, red=12, green=13, blue=14))"
   ]
  },
  {
   "cell_type": "markdown",
   "id": "f1e6f98d-ed0e-408e-b7ca-002672960069",
   "metadata": {},
   "source": [
    "## Part 2"
   ]
  },
  {
   "cell_type": "code",
   "execution_count": 8,
   "id": "4595254d-b5a8-4dd9-abe0-88a4da7b0d26",
   "metadata": {},
   "outputs": [],
   "source": [
    "def minimum_cubes(game: Game) -> Tuple[int, int, int]:\n",
    "    \"\"\"Return the minimum number of cubes required to play a game.\n",
    "\n",
    "    Example:\n",
    "\n",
    "        >>> game = parse_game(\"Game 1: 3 blue, 4 red; 1 red, 2 green, 6 blue; 2 green\")\n",
    "        >>> minimum_cubes(game)\n",
    "        (4, 2, 6)\n",
    "\n",
    "        >>> game = parse_game(\"Game 2: 1 blue, 2 green; 3 green, 4 blue, 1 red; 1 green, 1 blue\")\n",
    "        >>> minimum_cubes(game)\n",
    "        (1, 3, 4)\n",
    "\n",
    "        >>> game = parse_game(\"Game 3: 8 green, 6 blue, 20 red; 5 blue, 4 red, 13 green; 5 green, 1 red\")\n",
    "        >>> minimum_cubes(game)\n",
    "        (20, 13, 6)\n",
    "\n",
    "        >>> game = parse_game(\"Game 4: 1 green, 3 red, 6 blue; 3 green, 6 red; 3 green, 15 blue, 14 red\")\n",
    "        >>> minimum_cubes(game)\n",
    "        (14, 3, 15)\n",
    "\n",
    "        >>> game = parse_game(\"Game 5: 6 red, 1 blue, 3 green; 2 blue, 1 red, 2 green\")\n",
    "        >>> minimum_cubes(game)\n",
    "        (6, 3, 2)\n",
    "    \"\"\"\n",
    "    r, g, b = None, None, None\n",
    "    for draw in game.draws:\n",
    "        r = max(r, draw.R) if r is not None else draw.R\n",
    "        g = max(g, draw.G) if g is not None else draw.G\n",
    "        b = max(b, draw.B) if b is not None else draw.B\n",
    "    return r, g, b"
   ]
  },
  {
   "cell_type": "code",
   "execution_count": 9,
   "id": "3e287bc9-25b8-4a77-8ff1-091548729ef1",
   "metadata": {},
   "outputs": [
    {
     "data": {
      "text/plain": [
       "TestResults(failed=0, attempted=17)"
      ]
     },
     "execution_count": 9,
     "metadata": {},
     "output_type": "execute_result"
    }
   ],
   "source": [
    "doctest.testmod()"
   ]
  },
  {
   "cell_type": "code",
   "execution_count": 10,
   "id": "b5c76df8-71bc-49fc-9a0b-6f7f0c619ed4",
   "metadata": {},
   "outputs": [
    {
     "data": {
      "text/plain": [
       "63711"
      ]
     },
     "execution_count": 10,
     "metadata": {},
     "output_type": "execute_result"
    }
   ],
   "source": [
    "games = []\n",
    "\n",
    "with open(DATA, \"r\") as f:\n",
    "    for line in f:\n",
    "        games.append(parse_game(line))\n",
    "\n",
    "sum(power(minimum_cubes(g)) for g in games)"
   ]
  }
 ],
 "metadata": {
  "kernelspec": {
   "display_name": "Python 3 (ipykernel)",
   "language": "python",
   "name": "python3"
  },
  "language_info": {
   "codemirror_mode": {
    "name": "ipython",
    "version": 3
   },
   "file_extension": ".py",
   "mimetype": "text/x-python",
   "name": "python",
   "nbconvert_exporter": "python",
   "pygments_lexer": "ipython3",
   "version": "3.10.13"
  }
 },
 "nbformat": 4,
 "nbformat_minor": 5
}
