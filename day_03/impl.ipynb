{
 "cells": [
  {
   "cell_type": "code",
   "execution_count": 1,
   "id": "3f7df031-700f-4090-92fb-813ee9878a42",
   "metadata": {},
   "outputs": [],
   "source": [
    "import doctest\n",
    "import io\n",
    "import re\n",
    "from typing import Iterable, List, Optional"
   ]
  },
  {
   "cell_type": "code",
   "execution_count": 2,
   "id": "2658d7ee-384d-49b3-aa34-7adef1e38f10",
   "metadata": {},
   "outputs": [],
   "source": [
    "DATA = \"input.txt\""
   ]
  },
  {
   "cell_type": "markdown",
   "id": "c4870402-0e43-481e-93c9-8202d3a3d8ef",
   "metadata": {},
   "source": [
    "# Part 1"
   ]
  },
  {
   "cell_type": "markdown",
   "id": "e15b47ad-636c-4d12-8421-120796389f22",
   "metadata": {},
   "source": [
    "Idea: Iterate through the lines keeping a buffer of the 3 most recent around. Upon pushing the next line to the window -- and popping the oldest one -- scan through the middle line in the window, parsing out any numbers and checking the surrounding context to see if any symbols are present. "
   ]
  },
  {
   "cell_type": "code",
   "execution_count": 3,
   "id": "74630483-2d30-4a3b-a4ca-ca74ddc56288",
   "metadata": {},
   "outputs": [],
   "source": [
    "def is_symbol(c: str) -> bool:\n",
    "    \"\"\"Returns True if ``c`` is a symbol.\"\"\"\n",
    "    return re.match(\"[^0-9\\.\\\\n]\", c) is not None\n",
    "\n",
    "def is_number(c: str) -> bool:\n",
    "    \"\"\"Returns True if ``c`` is a digit.\"\"\"\n",
    "    return re.match(\"[0-9]\", c) is not None"
   ]
  },
  {
   "cell_type": "code",
   "execution_count": 4,
   "id": "6fc57ac6-d91e-4273-9194-6b166a5e2d5a",
   "metadata": {},
   "outputs": [],
   "source": [
    "class Buffer:\n",
    "    def __init__(self):\n",
    "        self.lines = []\n",
    "        self.initialised = False\n",
    "\n",
    "    def reset(self, line_len: int, n_line: int) -> None:\n",
    "        self.lines = [\".\" * line_len for _ in range(n_line)]\n",
    "        self.initialised = True\n",
    "        \n",
    "    def append(self, line: str) -> None:\n",
    "        self.lines = self.lines[1:]\n",
    "        self.lines.append(line)"
   ]
  },
  {
   "cell_type": "code",
   "execution_count": 5,
   "id": "f1a7a39a-db67-41f7-984f-0bff3e6d42a4",
   "metadata": {},
   "outputs": [],
   "source": [
    "def symbol_at_column(lines: List[str], idx: int) -> bool:\n",
    "    \"\"\"Returns True there is a symbol at column ``idx`` in ``lines``.\"\"\"\n",
    "    if idx < 0 or idx >= len(lines[0]):\n",
    "        return False\n",
    "    return any(is_symbol(line[idx]) for line in lines)"
   ]
  },
  {
   "cell_type": "code",
   "execution_count": 6,
   "id": "fd643501-ce9d-424e-b459-51d98d42c8d8",
   "metadata": {},
   "outputs": [],
   "source": [
    "def parse_part_numbers(above: str, line: str, below: str) -> Iterable[int]:\n",
    "    \"\"\"Returns all part numbers in ``line``.\n",
    "\n",
    "    Example:\n",
    "\n",
    "        >>> a = \"467..114..\"\n",
    "        >>> l = \"...*......\"\n",
    "        >>> b = \"..35..633.\"\n",
    "        >>> list(parse_part_numbers(a, l, b))\n",
    "        []\n",
    "\n",
    "        >>> a = \"...*......\"\n",
    "        >>> l = \"..35..633.\"\n",
    "        >>> b = \"......#...\"\n",
    "        >>> list(parse_part_numbers(a, l, b))\n",
    "        [35, 633]\n",
    "\n",
    "        >>> a = \"617*......\"\n",
    "        >>> l = \".....+.58.\"\n",
    "        >>> b = \"..592.....\"\n",
    "        >>> list(parse_part_numbers(a, l, b))\n",
    "        []\n",
    "\n",
    "        >>> a = \".....*\"\n",
    "        >>> l = \".....9\"\n",
    "        >>> b = \"......\"\n",
    "        >>> list(parse_part_numbers(a, l, b))\n",
    "        [9]\n",
    "    \"\"\"\n",
    "    in_num = False\n",
    "    cur_num_seen_symbol = False\n",
    "    part_num = 0\n",
    "    \n",
    "    for i in range(len(line)):\n",
    "        if line[i] == \".\" or is_symbol(line[i]):\n",
    "            if in_num:\n",
    "                if cur_num_seen_symbol or symbol_at_column([above, line, below], i):\n",
    "                    yield part_num\n",
    "            in_num = False\n",
    "            cur_num_seen_symbol = False\n",
    "            part_num = 0\n",
    "        elif is_number(line[i]):\n",
    "            if not in_num:\n",
    "                cur_num_seen_symbol = symbol_at_column([above, line, below], i - 1)\n",
    "            cur_num_seen_symbol = cur_num_seen_symbol or symbol_at_column([above, line, below], i)\n",
    "            in_num = True\n",
    "            part_num = part_num*10 + int(line[i])\n",
    "        else:\n",
    "            raise ValueError(f\"unknown character '{line[i]}'\")\n",
    "\n",
    "    if in_num and (cur_num_seen_symbol or symbol_at_column([above, line, below], i - 1)):\n",
    "        yield part_num"
   ]
  },
  {
   "cell_type": "code",
   "execution_count": 7,
   "id": "ab20e953-8445-4395-b477-4f1e91af6ef7",
   "metadata": {},
   "outputs": [],
   "source": [
    "def part_numbers(lines: io.TextIOBase) -> Iterable[int]:\n",
    "    \"\"\"Returns all part numbers in the lines of a schematic.\n",
    "\n",
    "    Example:\n",
    "\n",
    "        >>> lines = [\n",
    "        ...     \"467..114..\",\n",
    "        ...     \"...*......\",\n",
    "        ...     \"..35..633.\",\n",
    "        ...     \"......#...\",\n",
    "        ...     \"617*......\",\n",
    "        ...     \".....+.58.\",\n",
    "        ...     \"..592.....\",\n",
    "        ...     \"......755.\",\n",
    "        ...     \"...$.*....\",\n",
    "        ...     \".664.598..\",\n",
    "        ... ]\n",
    "        >>> list(part_numbers(lines))\n",
    "        [467, 35, 633, 617, 592, 755, 664, 598]\n",
    "    \"\"\"\n",
    "    b = Buffer()\n",
    "    for line in lines:\n",
    "        line = line.strip()\n",
    "        if not b.initialised:\n",
    "            b.reset(len(line), 3)\n",
    "\n",
    "        # pop old line and push new one\n",
    "        b.append(line)\n",
    "\n",
    "        # iterate through middle line, parsing numbers and checking if part\n",
    "        yield from parse_part_numbers(b.lines[0], b.lines[1], b.lines[2])\n",
    "\n",
    "    if b.initialised:\n",
    "        b.append(\".\"*len(b.lines[0]))\n",
    "        yield from parse_part_numbers(b.lines[0], b.lines[1], b.lines[2])"
   ]
  },
  {
   "cell_type": "code",
   "execution_count": 8,
   "id": "daaec36a-9f3b-4256-bfb8-d4d31464de7c",
   "metadata": {},
   "outputs": [
    {
     "data": {
      "text/plain": [
       "TestResults(failed=0, attempted=18)"
      ]
     },
     "execution_count": 8,
     "metadata": {},
     "output_type": "execute_result"
    }
   ],
   "source": [
    "doctest.testmod()"
   ]
  },
  {
   "cell_type": "code",
   "execution_count": 9,
   "id": "5bd388f3-b847-4632-b887-a5c5a653c1e6",
   "metadata": {},
   "outputs": [
    {
     "name": "stdout",
     "output_type": "stream",
     "text": [
      "512794\n"
     ]
    }
   ],
   "source": [
    "with open(DATA, \"r\") as f:\n",
    "    print(sum(part_numbers(f)))"
   ]
  },
  {
   "cell_type": "markdown",
   "id": "1cdffcd9-7042-40dc-8722-d4358dc51bf7",
   "metadata": {},
   "source": [
    "# Part 2\n",
    "\n",
    "Idea: similar to Part 1 but now for each `*` found we parse the numbers out of the surrounding context. If there is only two present then the gear ratio can be computed and returned."
   ]
  },
  {
   "cell_type": "code",
   "execution_count": 10,
   "id": "6f9e288f-1315-47bd-9c2f-e65b75ed25ba",
   "metadata": {},
   "outputs": [],
   "source": [
    "def number_at(line: str, idx: int) -> bool:\n",
    "    \"\"\"Returns True if there is a number at ``idx`` in line.\"\"\"\n",
    "    if idx < 0 or idx >= len(line):\n",
    "        return False\n",
    "    return is_number(line[idx])"
   ]
  },
  {
   "cell_type": "code",
   "execution_count": 11,
   "id": "83564efd-cda4-4ac4-978f-681a15e234cd",
   "metadata": {},
   "outputs": [],
   "source": [
    "def parse_number(line: str, idx: int) -> int:\n",
    "    \"\"\"Returns the number at ``idx`` in line.\n",
    "\n",
    "    Example:\n",
    "\n",
    "        >>> parse_number(\"...*.123\", 6)\n",
    "        123\n",
    "    \"\"\"\n",
    "    while number_at(line, idx - 1):\n",
    "        idx = idx - 1\n",
    "    n = int(line[idx])\n",
    "    while number_at(line, idx + 1):\n",
    "        idx = idx + 1\n",
    "        n = n*10 + int(line[idx])\n",
    "    return n"
   ]
  },
  {
   "cell_type": "code",
   "execution_count": 12,
   "id": "4fd679ca-cdf2-42cc-b887-5267fe38dc8a",
   "metadata": {},
   "outputs": [],
   "source": [
    "def parse_gear_part_numbers(above: str, line: str, below: str) -> Iterable[List[int]]:\n",
    "    \"\"\"Returns all part numbers for each gear in ``line``.\n",
    "\n",
    "    Example:\n",
    "\n",
    "        >>> a = \"467..114..\"\n",
    "        >>> l = \"...*......\"\n",
    "        >>> b = \"..35..633.\"\n",
    "        >>> list(parse_gear_part_numbers(a, l, b))\n",
    "        [[467, 35]]\n",
    "    \"\"\"\n",
    "    for i in range(len(line)):\n",
    "        if line[i] != \"*\":\n",
    "            continue\n",
    "        numbers = []\n",
    "        \n",
    "        if number_at(line, i - 1):\n",
    "            numbers.append(parse_number(line, i - 1))\n",
    "        if number_at(line, i + 1):\n",
    "            numbers.append(parse_number(line, i + 1))\n",
    "\n",
    "        tl_num = number_at(above, i - 1)\n",
    "        tm_num = number_at(above, i)\n",
    "        tr_num = number_at(above, i + 1)\n",
    "        if tl_num:\n",
    "            numbers.append(parse_number(above, i - 1))\n",
    "        if tm_num and not tl_num:\n",
    "            numbers.append(parse_number(above, i))\n",
    "        if tr_num and not tm_num:\n",
    "            numbers.append(parse_number(above, i + 1))\n",
    "\n",
    "\n",
    "        bl_num = number_at(below, i - 1)\n",
    "        bm_num = number_at(below, i)\n",
    "        br_num = number_at(below, i + 1)\n",
    "        if bl_num:\n",
    "            numbers.append(parse_number(below, i - 1))\n",
    "        if bm_num and not bl_num:\n",
    "            numbers.append(parse_number(below, i))\n",
    "        if br_num and not bm_num:\n",
    "            numbers.append(parse_number(below, i + 1))\n",
    "\n",
    "        yield numbers"
   ]
  },
  {
   "cell_type": "code",
   "execution_count": 13,
   "id": "8599ac8e-8ceb-4d4c-b18a-c199d74b5e62",
   "metadata": {},
   "outputs": [],
   "source": [
    "def gear_part_numbers(lines: io.TextIOBase) -> Iterable[int]:\n",
    "    \"\"\"Returns all part numbers for gears in the lines of a schematic.\n",
    "\n",
    "    Example:\n",
    "\n",
    "        >>> lines = [\n",
    "        ...     \"467..114..\",\n",
    "        ...     \"...*......\",\n",
    "        ...     \"..35..633.\",\n",
    "        ...     \"......#...\",\n",
    "        ...     \"617*......\",\n",
    "        ...     \".....+.58.\",\n",
    "        ...     \"..592.....\",\n",
    "        ...     \"......755.\",\n",
    "        ...     \"...$.*....\",\n",
    "        ...     \".664.598..\",\n",
    "        ... ]\n",
    "        >>> list(gear_part_numbers(lines))\n",
    "        [[467, 35], [755, 598]]\n",
    "    \"\"\"\n",
    "    b = Buffer()\n",
    "    for line in lines:\n",
    "        line = line.strip()\n",
    "        if not b.initialised:\n",
    "            b.reset(len(line), 3)\n",
    "\n",
    "        # pop old line and push new one\n",
    "        b.append(line)\n",
    "\n",
    "        # iterate through middle line, parsing numbers and checking if part\n",
    "        for pn in parse_gear_part_numbers(b.lines[0], b.lines[1], b.lines[2]):\n",
    "            if len(pn) == 2:\n",
    "                yield pn\n",
    "\n",
    "    if b.initialised:\n",
    "        b.append(\".\"*len(b.lines[0]))\n",
    "        for pn in parse_gear_part_numbers(b.lines[0], b.lines[1], b.lines[2]):\n",
    "            if len(pn) == 2:\n",
    "                yield pn"
   ]
  },
  {
   "cell_type": "code",
   "execution_count": 14,
   "id": "0aa5936b-f545-4098-97c2-554af8bd6e7b",
   "metadata": {},
   "outputs": [
    {
     "data": {
      "text/plain": [
       "TestResults(failed=0, attempted=25)"
      ]
     },
     "execution_count": 14,
     "metadata": {},
     "output_type": "execute_result"
    }
   ],
   "source": [
    "doctest.testmod()"
   ]
  },
  {
   "cell_type": "code",
   "execution_count": 15,
   "id": "3574b521-b544-4da9-9d15-f0db4736bf7f",
   "metadata": {},
   "outputs": [
    {
     "name": "stdout",
     "output_type": "stream",
     "text": [
      "67779080\n"
     ]
    }
   ],
   "source": [
    "with open(DATA, \"r\") as f:\n",
    "    print(sum(r1 * r2 for r1, r2 in gear_part_numbers(f)))"
   ]
  }
 ],
 "metadata": {
  "kernelspec": {
   "display_name": "Python 3 (ipykernel)",
   "language": "python",
   "name": "python3"
  },
  "language_info": {
   "codemirror_mode": {
    "name": "ipython",
    "version": 3
   },
   "file_extension": ".py",
   "mimetype": "text/x-python",
   "name": "python",
   "nbconvert_exporter": "python",
   "pygments_lexer": "ipython3",
   "version": "3.10.13"
  }
 },
 "nbformat": 4,
 "nbformat_minor": 5
}
